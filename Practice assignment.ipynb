{
 "cells": [
  {
   "cell_type": "markdown",
   "id": "a0dd493c-4497-49b0-b06e-319a6acdc3ab",
   "metadata": {},
   "source": [
    "1) Area of a Rectangle:\n",
    "Write a Python program to calculate the area of a rectangle. Use the formula:\n",
    "\n",
    "Area = length × width\n",
    "\n",
    "Take length and width as inputs from the user."
   ]
  },
  {
   "cell_type": "code",
   "execution_count": 2,
   "id": "d0440a40-68e9-4851-ac35-819a1400d141",
   "metadata": {},
   "outputs": [
    {
     "name": "stdout",
     "output_type": "stream",
     "text": [
      "Length: 55.69, Width: 84.37, Area of the rectangle: 4698.58\n"
     ]
    }
   ],
   "source": [
    "import random\n",
    "length = random.uniform(1, 100)  # Random length between 1 and 100\n",
    "width = random.uniform(1, 100)   # Random width between 1 and 100\n",
    "area = length * width\n",
    "print(f\"Length: {length:.2f}, Width: {width:.2f}, Area of the rectangle: {area:.2f}\")"
   ]
  },
  {
   "cell_type": "markdown",
   "id": "2242875d-12a9-4756-b099-86da00d18161",
   "metadata": {},
   "source": [
    "2) Circumference of a Circle:\n",
    "Write a Python program to calculate the circumference of a circle. Use the formula:\n",
    "\n",
    "Circumference = 2πr\n",
    "\n",
    "Take the radius r as input from the user."
   ]
  },
  {
   "cell_type": "code",
   "execution_count": 4,
   "id": "9de4d3ad-6cfd-4f98-96a3-629a2c2ed588",
   "metadata": {},
   "outputs": [
    {
     "name": "stdout",
     "output_type": "stream",
     "text": [
      "Generated radius of the circle: 86.68\n",
      "The circumference of the circle is: 544.60\n"
     ]
    }
   ],
   "source": [
    "import random\n",
    "import math  # Import math module to use the value of π\n",
    "\n",
    "# Generate a random radius between 1 and 100\n",
    "radius = random.uniform(1, 100)  # random float value between 1 and 100\n",
    "\n",
    "# Display the generated radius\n",
    "print(f\"Generated radius of the circle: {radius:.2f}\")\n",
    "\n",
    "# Calculating the circumference\n",
    "circumference = 2 * math.pi * radius\n",
    "\n",
    "# Displaying the result\n",
    "print(f\"The circumference of the circle is: {circumference:.2f}\")"
   ]
  },
  {
   "cell_type": "markdown",
   "id": "998f41ea-4a7e-49ec-8852-0c676ca189ff",
   "metadata": {},
   "source": [
    "3) Simple Interest:\n",
    "Write a Python program to calculate the simple interest. Use the formula:\n",
    "Simple Interest = Principal × Rate × Time\n",
    "\n",
    "Take Principal, Rate, and Time as inputs from the user."
   ]
  },
  {
   "cell_type": "code",
   "execution_count": 3,
   "id": "b0bbb247-5075-4332-908e-6982c98d92fa",
   "metadata": {},
   "outputs": [
    {
     "name": "stdout",
     "output_type": "stream",
     "text": [
      "Generated Principal: 71500\n",
      "Generated Rate of Interest: 6.88%\n",
      "Generated Time: 3 years\n",
      "Simple Interest = 14760.56\n"
     ]
    }
   ],
   "source": [
    "import random\n",
    "\n",
    "# Generate random values\n",
    "principal = random.randint(1000, 100000)  # Principal amount between 1,000 and 100,000\n",
    "rate = random.uniform(1, 15)  # Rate of interest between 1% and 15%\n",
    "time = random.randint(1, 10)  # Time in years between 1 and 10\n",
    "\n",
    "# Display the generated values\n",
    "print(f\"Generated Principal: {principal}\")\n",
    "print(f\"Generated Rate of Interest: {rate:.2f}%\")\n",
    "print(f\"Generated Time: {time} years\")\n",
    "\n",
    "# Calculate simple interest\n",
    "simple_interest = (principal * rate * time) / 100\n",
    "\n",
    "# Display the result\n",
    "print(f\"Simple Interest = {simple_interest:.2f}\")"
   ]
  },
  {
   "cell_type": "markdown",
   "id": "cdcdf79e-cfaf-4b9c-b271-e5303bede5fa",
   "metadata": {},
   "source": [
    "4) Speed of an Object:\n",
    "Write a Python program to calculate the speed of an object. Use the formula:\n",
    "Speed = Distance / Time\n",
    "\n",
    "Take Distance and Time as inputs from the user. "
   ]
  },
  {
   "cell_type": "code",
   "execution_count": 5,
   "id": "5f9283d0-6dc7-45f8-995e-88cbb5fc19ba",
   "metadata": {},
   "outputs": [
    {
     "name": "stdout",
     "output_type": "stream",
     "text": [
      "Generated Distance: 125.74 units\n",
      "Generated Time: 8.69 seconds\n",
      "The speed of the object is: 14.47 units per second\n"
     ]
    }
   ],
   "source": [
    "import random\n",
    "\n",
    "# Generate random values for distance and time\n",
    "distance = random.uniform(10, 500)  # Distance between 10 and 500 units (e.g., meters or kilometers)\n",
    "time = random.uniform(1, 10)        # Time between 1 and 10 seconds\n",
    "\n",
    "# Display the generated values\n",
    "print(f\"Generated Distance: {distance:.2f} units\")\n",
    "print(f\"Generated Time: {time:.2f} seconds\")\n",
    "\n",
    "# Calculating the speed\n",
    "speed = distance / time\n",
    "\n",
    "# Displaying the result\n",
    "print(f\"The speed of the object is: {speed:.2f} units per second\")"
   ]
  },
  {
   "cell_type": "markdown",
   "id": "230c4d6b-11fb-4cb9-88cc-c4209e86062c",
   "metadata": {},
   "source": [
    "5) BMI Calculator:\n",
    "Write a Python program to calculate the Body Mass Index (BMI). Use the formula:\n",
    "        BMI = Weight (kg) / (height).2\n",
    "Take Weight (in kilograms) and Height (in meters) as inputs from the user."
   ]
  },
  {
   "cell_type": "code",
   "execution_count": 6,
   "id": "71cf06d7-59a9-461f-a532-adf6c8165d9b",
   "metadata": {},
   "outputs": [
    {
     "name": "stdout",
     "output_type": "stream",
     "text": [
      "Generated Weight: 93.97 kg\n",
      "Generated Height: 1.93 meters\n",
      "The Body Mass Index (BMI) is: 25.28\n"
     ]
    }
   ],
   "source": [
    "import random\n",
    "\n",
    "# Generate random values for weight (in kg) and height (in meters)\n",
    "weight = random.uniform(40, 100)  # Weight between 40 and 100 kg\n",
    "height = random.uniform(1.4, 2.0)  # Height between 1.4 and 2.0 meters\n",
    "\n",
    "# Display the generated values\n",
    "print(f\"Generated Weight: {weight:.2f} kg\")\n",
    "print(f\"Generated Height: {height:.2f} meters\")\n",
    "\n",
    "# Calculating the BMI\n",
    "bmi = weight / (height ** 2)\n",
    "\n",
    "# Displaying the result\n",
    "print(f\"The Body Mass Index (BMI) is: {bmi:.2f}\")"
   ]
  },
  {
   "cell_type": "markdown",
   "id": "14d8fc58-8430-4608-ab34-48f8b3716bd6",
   "metadata": {},
   "source": [
    "6) Force Using Newton's Second Law:\n",
    "\n",
    "Write a Python program to calculate the force on an object. Use the formula: F=ma\n",
    "\n",
    "Take m (mass in kilograms) and a (acceleration in meters/second2) as inputs from the user."
   ]
  },
  {
   "cell_type": "code",
   "execution_count": 7,
   "id": "6f7f0874-9a78-48e2-bf79-2defe822c357",
   "metadata": {},
   "outputs": [
    {
     "name": "stdout",
     "output_type": "stream",
     "text": [
      "Generated Mass: 94.74 kg\n",
      "Generated Acceleration: 6.56 m/s²\n",
      "The force on the object is: 621.55 Newtons\n"
     ]
    }
   ],
   "source": [
    "import random\n",
    "\n",
    "# Generate random values for mass (in kg) and acceleration (in m/s^2)\n",
    "mass = random.uniform(1, 100)  # Mass between 1 and 100 kg\n",
    "acceleration = random.uniform(1, 20)  # Acceleration between 1 and 20 m/s^2\n",
    "\n",
    "# Display the generated values\n",
    "print(f\"Generated Mass: {mass:.2f} kg\")\n",
    "print(f\"Generated Acceleration: {acceleration:.2f} m/s²\")\n",
    "\n",
    "# Calculating the force using Newton's second law\n",
    "force = mass * acceleration\n",
    "\n",
    "# Displaying the result\n",
    "print(f\"The force on the object is: {force:.2f} Newtons\")"
   ]
  },
  {
   "cell_type": "markdown",
   "id": "51eb963f-4a61-4829-9633-75be1daaaada",
   "metadata": {},
   "source": [
    "7) Compound Interest:\n",
    "Write a Python program to calculate compound interest. Use the formula:\n",
    "\n",
    "A=p x (1+r/n)nt\n",
    "\n",
    "Where:\n",
    "A= total amount\n",
    "P = principal amount\n",
    "r = annual interest rate (decimal)\n",
    "n = number of times interest is compounded per year\n",
    "t = time in years\n",
    "Take P, r, n, and t as inputs from the user."
   ]
  },
  {
   "cell_type": "code",
   "execution_count": 8,
   "id": "bdcbc37c-c381-49d5-9df9-842674d3c501",
   "metadata": {},
   "outputs": [
    {
     "name": "stdout",
     "output_type": "stream",
     "text": [
      "Generated Principal (P): 1866.55\n",
      "Generated Annual Interest Rate (r): 13.15%\n",
      "Generated Number of Compounding Periods per Year (n): 1\n",
      "Generated Time in Years (t): 10\n",
      "The total amount (A) after 10 years is: 6419.23\n"
     ]
    }
   ],
   "source": [
    "import random\n",
    "\n",
    "# Generate random values for P, r, n, and t\n",
    "P = random.uniform(1000, 10000)  # Principal amount between 1000 and 10000\n",
    "r = random.uniform(0.01, 0.15)   # Annual interest rate between 1% and 15%\n",
    "n = random.randint(1, 12)        # Number of times interest is compounded per year (between 1 and 12)\n",
    "t = random.randint(1, 10)        # Time in years between 1 and 10\n",
    "\n",
    "# Display the generated values\n",
    "print(f\"Generated Principal (P): {P:.2f}\")\n",
    "print(f\"Generated Annual Interest Rate (r): {r*100:.2f}%\")\n",
    "print(f\"Generated Number of Compounding Periods per Year (n): {n}\")\n",
    "print(f\"Generated Time in Years (t): {t}\")\n",
    "\n",
    "# Calculating the compound interest\n",
    "A = P * (1 + r / n) ** (n * t)\n",
    "\n",
    "# Displaying the result\n",
    "print(f\"The total amount (A) after {t} years is: {A:.2f}\")"
   ]
  },
  {
   "cell_type": "markdown",
   "id": "c69e9d71-7668-4ba5-831d-8c25a85de771",
   "metadata": {},
   "source": [
    "8) Perimeter of a Triangle:\n",
    "Write a Python program to calculate the perimeter of a triangle. Use the formula:\n",
    "\n",
    "Perimeter = a + b + c\n",
    "\n",
    "Take a, b, and c (lengths of the three sides) as inputs from the user."
   ]
  },
  {
   "cell_type": "code",
   "execution_count": 9,
   "id": "779f27f6-e7f2-4b07-acc7-6d11b9df579e",
   "metadata": {},
   "outputs": [
    {
     "name": "stdout",
     "output_type": "stream",
     "text": [
      "Generated side a: 7.77 units\n",
      "Generated side b: 17.63 units\n",
      "Generated side c: 2.95 units\n",
      "The perimeter of the triangle is: 28.35 units\n"
     ]
    }
   ],
   "source": [
    "import random\n",
    "\n",
    "# Generate random values for the sides of the triangle (a, b, c)\n",
    "a = random.uniform(1, 20)  # Side a between 1 and 20 units\n",
    "b = random.uniform(1, 20)  # Side b between 1 and 20 units\n",
    "c = random.uniform(1, 20)  # Side c between 1 and 20 units\n",
    "\n",
    "# Display the generated side lengths\n",
    "print(f\"Generated side a: {a:.2f} units\")\n",
    "print(f\"Generated side b: {b:.2f} units\")\n",
    "print(f\"Generated side c: {c:.2f} units\")\n",
    "\n",
    "# Calculating the perimeter\n",
    "perimeter = a + b + c\n",
    "\n",
    "# Displaying the result\n",
    "print(f\"The perimeter of the triangle is: {perimeter:.2f} units\")"
   ]
  },
  {
   "cell_type": "markdown",
   "id": "0cb65b1f-e240-4185-9a11-bd3295d6227b",
   "metadata": {},
   "source": [
    "9) Volume of a Sphere:\n",
    "Write a Python program to calculate the volume of a sphere. Use the formula:\n",
    "\n",
    "Volume= 4/3πr3  \n",
    "\n",
    "Take r (radius) as input from the user."
   ]
  },
  {
   "cell_type": "code",
   "execution_count": 11,
   "id": "600ae346-b0da-42d1-be0c-7b83751dc3b7",
   "metadata": {},
   "outputs": [
    {
     "name": "stdout",
     "output_type": "stream",
     "text": [
      "Generated radius of the sphere: 9.84 units\n",
      "The volume of the sphere is: 3993.38 cubic units\n"
     ]
    }
   ],
   "source": [
    "import random\n",
    "import math\n",
    "\n",
    "# Generate a random radius between 1 and 20\n",
    "radius = random.uniform(1, 20)\n",
    "\n",
    "# Display the generated radius\n",
    "print(f\"Generated radius of the sphere: {radius:.2f} units\")\n",
    "\n",
    "# Calculating the volume using the formula\n",
    "volume = (4/3) * math.pi * radius**3\n",
    "\n",
    "# Displaying the result\n",
    "print(f\"The volume of the sphere is: {volume:.2f} cubic units\")"
   ]
  },
  {
   "cell_type": "markdown",
   "id": "344c1378-2dd6-4496-a08c-5dc3db7e2ce0",
   "metadata": {},
   "source": [
    "10) Kinetic Energy:\n",
    "Write a Python program to calculate the kinetic energy of an object. Use the formula:\n",
    "\n",
    "KE =1/2mV2\n",
    "\n",
    "Take m (mass in kilograms) and v (velocity in meters/second) as inputs from the user."
   ]
  },
  {
   "cell_type": "code",
   "execution_count": 12,
   "id": "76a287cc-2701-4901-8c80-6fa4a8924434",
   "metadata": {},
   "outputs": [
    {
     "name": "stdout",
     "output_type": "stream",
     "text": [
      "Generated Mass: 19.06 kg\n",
      "Generated Velocity: 27.27 m/s\n",
      "The kinetic energy of the object is: 7086.28 Joules\n"
     ]
    }
   ],
   "source": [
    "import random\n",
    "\n",
    "# Generate random values for mass (in kg) and velocity (in m/s)\n",
    "mass = random.uniform(1, 100)  # Mass between 1 and 100 kg\n",
    "velocity = random.uniform(1, 50)  # Velocity between 1 and 50 m/s\n",
    "\n",
    "# Display the generated values\n",
    "print(f\"Generated Mass: {mass:.2f} kg\")\n",
    "print(f\"Generated Velocity: {velocity:.2f} m/s\")\n",
    "\n",
    "# Calculating the kinetic energy\n",
    "kinetic_energy = 0.5 * mass * velocity**2\n",
    "\n",
    "# Displaying the result\n",
    "print(f\"The kinetic energy of the object is: {kinetic_energy:.2f} Joules\")\n"
   ]
  },
  {
   "cell_type": "markdown",
   "id": "e492864b-bcd7-4294-8613-07ca782b2438",
   "metadata": {},
   "source": [
    "11) Quadratic Equation Roots:\n",
    "Write a Python program to find the roots of a quadratic equation. Use the formula:\n",
    "\n",
    "Quadratic Formula:\n",
    "𝑋=−𝑏±𝑏2−4𝑎𝑐2𝑎X=2a−b±b2−4ac\n",
    " \n",
    "Where:\n",
    "Take a, b, and c as inputs from the user."
   ]
  },
  {
   "cell_type": "code",
   "execution_count": 13,
   "id": "4e8069b2-41a2-4e76-ab69-feefbdd4d605",
   "metadata": {},
   "outputs": [
    {
     "name": "stdout",
     "output_type": "stream",
     "text": [
      "Generated coefficients: a = 2.60, b = -4.99, c = 7.15\n",
      "The roots are complex: 0.96 ± 1.35i\n"
     ]
    }
   ],
   "source": [
    "import random\n",
    "import math\n",
    "\n",
    "# Generate random values for a, b, and c (coefficients of the quadratic equation)\n",
    "a = random.uniform(1, 10)  # Coefficient a between 1 and 10\n",
    "b = random.uniform(-10, 10)  # Coefficient b between -10 and 10\n",
    "c = random.uniform(-10, 10)  # Coefficient c between -10 and 10\n",
    "\n",
    "# Display the generated coefficients\n",
    "print(f\"Generated coefficients: a = {a:.2f}, b = {b:.2f}, c = {c:.2f}\")\n",
    "\n",
    "# Calculating the discriminant (b^2 - 4ac)\n",
    "discriminant = b**2 - 4*a*c\n",
    "\n",
    "# Check if the discriminant is non-negative\n",
    "if discriminant >= 0:\n",
    "    # Calculate the two roots using the quadratic formula\n",
    "    root1 = (-b + math.sqrt(discriminant)) / (2 * a)\n",
    "    root2 = (-b - math.sqrt(discriminant)) / (2 * a)\n",
    "    \n",
    "    # Displaying the results\n",
    "    print(f\"The roots of the quadratic equation are: {root1:.2f} and {root2:.2f}\")\n",
    "else:\n",
    "    # If the discriminant is negative, the roots are complex\n",
    "    real_part = -b / (2 * a)\n",
    "    imaginary_part = math.sqrt(-discriminant) / (2 * a)\n",
    "    \n",
    "    # Displaying the complex roots\n",
    "    print(f\"The roots are complex: {real_part:.2f} ± {imaginary_part:.2f}i\")\n"
   ]
  },
  {
   "cell_type": "markdown",
   "id": "15ec35f7-061e-408b-8041-29396c7c9515",
   "metadata": {},
   "source": [
    "12) Temperature Conversion:\n",
    "Write a Python program to convert a temperature from Celsius to Fahrenheit. Use the\n",
    "formula:F=9/5 C+32\n",
    "\n",
    "Take C (temperature in Celsius) as input from the user."
   ]
  },
  {
   "cell_type": "code",
   "execution_count": 14,
   "id": "aee122f2-4d96-4cf4-a030-8d343dc4853d",
   "metadata": {},
   "outputs": [
    {
     "name": "stdout",
     "output_type": "stream",
     "text": [
      "Generated temperature in Celsius: -13.83°C\n",
      "The temperature in Fahrenheit is: 7.10°F\n"
     ]
    }
   ],
   "source": [
    "import random\n",
    "\n",
    "# Generate a random temperature in Celsius between -30 and 50\n",
    "celsius = random.uniform(-30, 50)\n",
    "\n",
    "# Display the generated Celsius temperature\n",
    "print(f\"Generated temperature in Celsius: {celsius:.2f}°C\")\n",
    "\n",
    "# Converting Celsius to Fahrenheit\n",
    "fahrenheit = (9/5) * celsius + 32\n",
    "\n",
    "# Displaying the result\n",
    "print(f\"The temperature in Fahrenheit is: {fahrenheit:.2f}°F\")\n"
   ]
  },
  {
   "cell_type": "markdown",
   "id": "e158a669-1161-4aa6-90de-1ea9b71fe271",
   "metadata": {},
   "source": [
    "13) Gravitational Force:\n",
    "Write a Python program to calculate the gravitational force between two objects. Use\n",
    "the formula\n",
    "\n",
    "F = G\n",
    "m1 ∗ m2\n",
    "r\n",
    "2\n",
    "\n",
    "m1, m2 are the masses of the objects\n",
    "r = distance between the centers of the objects\n",
    "Take m1, m2 and r as inputs from the user."
   ]
  },
  {
   "cell_type": "code",
   "execution_count": 15,
   "id": "59e042ac-b0e0-47bf-9e5c-d67227de103b",
   "metadata": {},
   "outputs": [
    {
     "name": "stdout",
     "output_type": "stream",
     "text": [
      "Generated temperature in Celsius: 18.03°C\n",
      "The temperature in Fahrenheit is: 64.45°F\n"
     ]
    }
   ],
   "source": [
    "import random\n",
    "\n",
    "# Generate a random temperature in Celsius between -30 and 50\n",
    "celsius = random.uniform(-30, 50)\n",
    "\n",
    "# Display the generated Celsius temperature\n",
    "print(f\"Generated temperature in Celsius: {celsius:.2f}°C\")\n",
    "\n",
    "# Converting Celsius to Fahrenheit using the formula F = (9/5) * C + 32\n",
    "fahrenheit = (9/5) * celsius + 32\n",
    "\n",
    "# Displaying the result\n",
    "print(f\"The temperature in Fahrenheit is: {fahrenheit:.2f}°F\")\n"
   ]
  },
  {
   "cell_type": "markdown",
   "id": "24f429f7-2719-4265-93b0-ef0e48192cb8",
   "metadata": {},
   "source": [
    "14) Volume of a Cylinder:\n",
    "Write a Python program to calculate the volume of a cylinder. Use the formula:\n",
    "\n",
    "Volume = πr2h\n",
    "Take radius(r) and height(h) as inputs from the user"
   ]
  },
  {
   "cell_type": "code",
   "execution_count": 16,
   "id": "08d47f33-e86f-4fe8-81b5-eda9cbdfa1f4",
   "metadata": {},
   "outputs": [
    {
     "name": "stdout",
     "output_type": "stream",
     "text": [
      "Generated temperature in Celsius: 45.31°C\n",
      "The temperature in Fahrenheit is: 113.56°F\n"
     ]
    }
   ],
   "source": [
    "import random\n",
    "\n",
    "# Generate a random temperature in Celsius between -30 and 50\n",
    "celsius = random.uniform(-30, 50)\n",
    "\n",
    "# Display the generated Celsius temperature\n",
    "print(f\"Generated temperature in Celsius: {celsius:.2f}°C\")\n",
    "\n",
    "# Convert Celsius to Fahrenheit using the formula F = (9/5) * C + 32\n",
    "fahrenheit = (9/5) * celsius + 32\n",
    "\n",
    "# Display the result\n",
    "print(f\"The temperature in Fahrenheit is: {fahrenheit:.2f}°F\")\n"
   ]
  },
  {
   "cell_type": "markdown",
   "id": "9b4d0737-684d-4552-97df-0e6d4adb0c46",
   "metadata": {},
   "source": [
    "15) Pressure:\n",
    "Write a Python program to calculate the pressure exerted by a force on a surface. Use\n",
    "the formula:\n",
    "\n",
    "P =F/A\n",
    "\n",
    "P = pressure\n",
    "F = force\n",
    "A = area\n",
    "Take F(force) and A(area) as inputs from the user."
   ]
  },
  {
   "cell_type": "code",
   "execution_count": 17,
   "id": "73fa96ad-c6f3-4fdd-ae2d-d95e8d943018",
   "metadata": {},
   "outputs": [
    {
     "name": "stdout",
     "output_type": "stream",
     "text": [
      "Generated force: 767.47 N\n",
      "Generated area: 25.55 m²\n",
      "The pressure exerted is: 30.04 Pascals (Pa)\n"
     ]
    }
   ],
   "source": [
    "import random\n",
    "\n",
    "# Generate random values for force (F) and area (A)\n",
    "force = random.uniform(10, 1000)  # Force between 10 and 1000 N\n",
    "area = random.uniform(1, 50)  # Area between 1 and 50 square meters\n",
    "\n",
    "# Display the generated values for force and area\n",
    "print(f\"Generated force: {force:.2f} N\")\n",
    "print(f\"Generated area: {area:.2f} m²\")\n",
    "\n",
    "# Calculating the pressure\n",
    "pressure = force / area\n",
    "\n",
    "# Displaying the result\n",
    "print(f\"The pressure exerted is: {pressure:.2f} Pascals (Pa)\")\n"
   ]
  },
  {
   "cell_type": "markdown",
   "id": "4630fd31-d248-465f-ae1a-68566dfb182d",
   "metadata": {},
   "source": [
    "16) Electric Power:\n",
    "Write a Python program to calculate the electric power consumed. Use the formula: P=v/I\n",
    "\n",
    "where:\n",
    "P = power\n",
    "V = voltage\n",
    "I = current\n",
    "Take V(voltage) and I(current) as inputs from the user."
   ]
  },
  {
   "cell_type": "code",
   "execution_count": 18,
   "id": "a6a85e13-07e6-40e4-a110-b298449e89d8",
   "metadata": {},
   "outputs": [
    {
     "name": "stdout",
     "output_type": "stream",
     "text": [
      "Generated voltage: 62.97 V\n",
      "Generated current: 13.67 A\n",
      "The electric power consumed is: 4.61 Watts (W)\n"
     ]
    }
   ],
   "source": [
    "import random\n",
    "\n",
    "# Generate random values for voltage (V) and current (I)\n",
    "voltage = random.uniform(10, 240)  # Voltage between 10 and 240 volts\n",
    "current = random.uniform(1, 50)  # Current between 1 and 50 amperes\n",
    "\n",
    "# Display the generated values for voltage and current\n",
    "print(f\"Generated voltage: {voltage:.2f} V\")\n",
    "print(f\"Generated current: {current:.2f} A\")\n",
    "\n",
    "# Calculating the electric power using the formula P = V / I\n",
    "power = voltage / current\n",
    "\n",
    "# Displaying the result\n",
    "print(f\"The electric power consumed is: {power:.2f} Watts (W)\")\n"
   ]
  },
  {
   "cell_type": "markdown",
   "id": "2014958f-b788-4912-9817-6c9323d0bf87",
   "metadata": {},
   "source": [
    "17) Perimeter of a Circle (Circumference):\n",
    "Write a Python program to calculate the perimeter (circumference) of a circle. Use the\n",
    "formula:P=2πr\n",
    "\n",
    "Take r (radius) as input from the user."
   ]
  },
  {
   "cell_type": "code",
   "execution_count": 19,
   "id": "c4f8a92a-25c7-4912-917f-8d2286e3e320",
   "metadata": {},
   "outputs": [
    {
     "name": "stdout",
     "output_type": "stream",
     "text": [
      "Generated radius: 61.39 units\n",
      "The perimeter (circumference) of the circle is: 385.72 units\n"
     ]
    }
   ],
   "source": [
    "import random\n",
    "import math\n",
    "\n",
    "# Generate a random radius (r) between 1 and 100\n",
    "radius = random.uniform(1, 100)\n",
    "\n",
    "# Display the generated radius\n",
    "print(f\"Generated radius: {radius:.2f} units\")\n",
    "\n",
    "# Calculating the circumference using the formula P = 2 * π * r\n",
    "circumference = 2 * math.pi * radius\n",
    "\n",
    "# Displaying the result\n",
    "print(f\"The perimeter (circumference) of the circle is: {circumference:.2f} units\")\n"
   ]
  },
  {
   "cell_type": "markdown",
   "id": "da14805a-066d-4ee5-910f-5440e15d6919",
   "metadata": {},
   "source": [
    "18) Future Value in Savings:\n",
    "Write a Python program to calculate the future value of an investment. Use the formula:\n",
    "\n",
    "FV = PV(1 + r)t\n",
    "\n",
    "where:\n",
    "o FV= future value\n",
    "o PV= present value\n",
    "o r= annual interest rate (as a decimal)\n",
    "o t= time in years\n",
    "Take PV, r, and t as inputs from the user."
   ]
  },
  {
   "cell_type": "code",
   "execution_count": 20,
   "id": "e27dd9e2-5c28-42f6-bdb8-abd887d34945",
   "metadata": {},
   "outputs": [
    {
     "name": "stdout",
     "output_type": "stream",
     "text": [
      "Generated present value (PV): $4155.73\n",
      "Generated annual interest rate (r): 4.23%\n",
      "Generated time in years (t): 28 years\n",
      "The future value (FV) of the investment is: $13239.83\n"
     ]
    }
   ],
   "source": [
    "import random\n",
    "\n",
    "# Generate random values for PV (present value), r (annual interest rate), and t (time in years)\n",
    "PV = random.uniform(1000, 10000)  # Present value between 1000 and 10000\n",
    "r = random.uniform(0.01, 0.15)  # Interest rate between 1% and 15%\n",
    "t = random.randint(1, 30)  # Time between 1 and 30 years\n",
    "\n",
    "# Display the generated values\n",
    "print(f\"Generated present value (PV): ${PV:.2f}\")\n",
    "print(f\"Generated annual interest rate (r): {r*100:.2f}%\")\n",
    "print(f\"Generated time in years (t): {t} years\")\n",
    "\n",
    "# Calculating the future value using the formula FV = PV * (1 + r) ** t\n",
    "FV = PV * (1 + r) ** t\n",
    "\n",
    "# Displaying the result\n",
    "print(f\"The future value (FV) of the investment is: ${FV:.2f}\")\n"
   ]
  },
  {
   "cell_type": "markdown",
   "id": "fd74942d-3c14-44be-a5fd-48020a548b7e",
   "metadata": {},
   "source": [
    "19) Work Done by a Force:\n",
    "Write a Python program to calculate the work done by a force. Use the formula:\n",
    "\n",
    "W=f⋅d⋅cos(θ)\n",
    "where:\n",
    "W = work done\n",
    "f= force\n",
    "d = distance\n",
    "theta = angle between force and direction of movement (in degrees)\n",
    "Take f, d, and θ as inputs from the user. please sovled with random number"
   ]
  },
  {
   "cell_type": "code",
   "execution_count": 21,
   "id": "67303892-548e-45e1-a2b7-e2fb41888040",
   "metadata": {},
   "outputs": [
    {
     "name": "stdout",
     "output_type": "stream",
     "text": [
      "Generated force (f): 246.33 N\n",
      "Generated distance (d): 45.33 m\n",
      "Generated angle (θ): 77.29 degrees\n",
      "The work done by the force is: 2457.12 Joules (J)\n"
     ]
    }
   ],
   "source": [
    "import random\n",
    "import math\n",
    "\n",
    "# Generate random values for force (f), distance (d), and angle (theta)\n",
    "force = random.uniform(10, 1000)  # Force between 10 and 1000 N\n",
    "distance = random.uniform(1, 100)  # Distance between 1 and 100 meters\n",
    "theta = random.uniform(0, 90)  # Angle between 0 and 90 degrees\n",
    "\n",
    "# Display the generated values for force, distance, and angle\n",
    "print(f\"Generated force (f): {force:.2f} N\")\n",
    "print(f\"Generated distance (d): {distance:.2f} m\")\n",
    "print(f\"Generated angle (θ): {theta:.2f} degrees\")\n",
    "\n",
    "# Convert angle from degrees to radians, because math.cos() works with radians\n",
    "theta_radians = math.radians(theta)\n",
    "\n",
    "# Calculating the work done using the formula W = f * d * cos(θ)\n",
    "work_done = force * distance * math.cos(theta_radians)\n",
    "\n",
    "# Displaying the result\n",
    "print(f\"The work done by the force is: {work_done:.2f} Joules (J)\")\n"
   ]
  },
  {
   "cell_type": "markdown",
   "id": "238af0e1-bd5a-4d80-b6f3-01248eac715a",
   "metadata": {},
   "source": [
    "20) Heat Transfer:\n",
    "Write a Python program to calculate the amount of heat transferred. Use the formula:\n",
    "\n",
    "Q = mc (∆T)\n",
    "\n",
    "where:\n",
    "Q= heat transfer\n",
    "m = mass\n",
    "c = specific heat capacity\n",
    "ΔT\n",
    "Take m, c, T as inputs from the user."
   ]
  },
  {
   "cell_type": "code",
   "execution_count": 22,
   "id": "bcfdfad1-b181-42e0-958e-9726b23e8c7b",
   "metadata": {},
   "outputs": [
    {
     "name": "stdout",
     "output_type": "stream",
     "text": [
      "Generated mass (m): 54.62 kg\n",
      "Generated specific heat capacity (c): 3566.84 J/kg°C\n",
      "Generated temperature change (ΔT): 99.90 °C\n",
      "The amount of heat transferred (Q) is: 19462711.97 Joules (J)\n"
     ]
    }
   ],
   "source": [
    "import random\n",
    "\n",
    "# Generate random values for mass (m), specific heat capacity (c), and change in temperature (ΔT)\n",
    "mass = random.uniform(1, 100)  # Mass between 1 and 100 kg\n",
    "specific_heat = random.uniform(500, 5000)  # Specific heat capacity between 500 and 5000 J/kg°C\n",
    "temperature_change = random.uniform(1, 100)  # Temperature change between 1 and 100 °C\n",
    "\n",
    "# Display the generated values for mass, specific heat capacity, and temperature change\n",
    "print(f\"Generated mass (m): {mass:.2f} kg\")\n",
    "print(f\"Generated specific heat capacity (c): {specific_heat:.2f} J/kg°C\")\n",
    "print(f\"Generated temperature change (ΔT): {temperature_change:.2f} °C\")\n",
    "\n",
    "# Calculating the heat transfer using the formula Q = m * c * ΔT\n",
    "heat_transfer = mass * specific_heat * temperature_change\n",
    "\n",
    "# Displaying the result\n",
    "print(f\"The amount of heat transferred (Q) is: {heat_transfer:.2f} Joules (J)\")\n"
   ]
  }
 ],
 "metadata": {
  "kernelspec": {
   "display_name": "Python 3 (ipykernel)",
   "language": "python",
   "name": "python3"
  },
  "language_info": {
   "codemirror_mode": {
    "name": "ipython",
    "version": 3
   },
   "file_extension": ".py",
   "mimetype": "text/x-python",
   "name": "python",
   "nbconvert_exporter": "python",
   "pygments_lexer": "ipython3",
   "version": "3.12.7"
  }
 },
 "nbformat": 4,
 "nbformat_minor": 5
}
