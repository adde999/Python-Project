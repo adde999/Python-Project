{
 "cells": [
  {
   "cell_type": "markdown",
   "id": "716bf109-d41d-45d0-8f70-b66e5733a2f3",
   "metadata": {},
   "source": [
    "Banking System Mini Project Documentation \n",
    "This document provides a step-by-step guide for students to create a Banking System using \n",
    "Object-Oriented Programming (OOP) in Python. This project includes functionalities for \n",
    "users to perform banking operations and for the bank (admin) to manage accounts and view \n",
    "financial statistics. \n",
    "Objective \n",
    "Create a Python-based banking system that: \n",
    "1. Allows users to:  \n",
    "o Open a new account. \n",
    "o Deposit money. \n",
    "o Withdraw money. \n",
    "o Check account balance. \n",
    "o Transfer money to another account. \n",
    "o View transaction history in a formatted statement. \n",
    "2. Allows the bank (admin) to:  \n",
    "o View total deposits in the bank. \n",
    "o Check the total number of accounts. \n",
    "Features and Functionality \n",
    "User Operations: \n",
    "1. Open an Account: Users can open a new account with a unique account number. \n",
    "2. Deposit Money: Users can add money to their account balance. \n",
    "3. Withdraw Money: Users can withdraw money, provided they have sufficient \n",
    "balance. \n",
    "4. Check Balance: Users can view their current account balance. \n",
    "5. Transfer Money: Users can transfer money to another existing account. \n",
    "6. Transaction Statement: Users can view a detailed statement of all their transactions. \n",
    "Admin Operations: \n",
    "1. View Total Deposits: Admins can see the total money deposited in the bank. \n",
    "2. Check Total Accounts: Admins can see the total number of accounts in the bank."
   ]
  },
  {
   "cell_type": "markdown",
   "id": "e0f5cc08-4fc8-4379-b6c7-d9a7db7c66e6",
   "metadata": {},
   "source": [
    "Implementation Steps \n",
    "Step 1: Define the BankAccount Class \n",
    "The BankAccount class represents individual accounts and their operations. \n",
    "Attributes: \n",
    " account_number: Unique account number for the account. \n",
    " account_holder: Name of the account holder. \n",
    " balance: Current balance in the account. \n",
    " transactions: A list to store the transaction history. \n",
    "Methods: \n",
    " deposit(amount): Adds the specified amount to the account balance. \n",
    " withdraw(amount): Deducts the specified amount from the account balance if \n",
    "sufficient funds are available. \n",
    " check_balance(): Returns the current account balance. \n",
    " add_transaction(description): Adds a description of a transaction to the transaction \n",
    "history. \n",
    " print_statement(): Prints a detailed statement of all transactions. \n"
   ]
  },
  {
   "cell_type": "code",
   "execution_count": 1,
   "id": "76e5626b-da0c-4f9d-895d-170a98212ab1",
   "metadata": {},
   "outputs": [],
   "source": [
    "class BankAccount:\n",
    "    def __init__(self, account_number, account_holder):\n",
    "        self.account_number = account_number\n",
    "        self.account_holder = account_holder\n",
    "        self.balance = 0\n",
    "        self.transactions = []\n",
    "\n",
    "    def deposit(self, amount):\n",
    "        self.balance += amount\n",
    "        self.add_transaction(f\"Deposited: ${amount}\")\n",
    "\n",
    "    def withdraw(self, amount):\n",
    "        if amount > self.balance:\n",
    "            print(\"Insufficient funds.\")\n",
    "            return False\n",
    "        self.balance -= amount\n",
    "        self.add_transaction(f\"Withdrew: ${amount}\")\n",
    "        return True\n",
    "\n",
    "    def check_balance(self):\n",
    "        return self.balance\n",
    "\n",
    "    def add_transaction(self, description):\n",
    "        self.transactions.append(description)\n",
    "\n",
    "    def print_statement(self):\n",
    "        print(f\"Transaction History for Account {self.account_number}:\")\n",
    "        for transaction in self.transactions:\n",
    "            print(transaction)\n"
   ]
  },
  {
   "cell_type": "markdown",
   "id": "5f84b49e-ce98-4ef7-a620-4df0a8530954",
   "metadata": {},
   "source": [
    "Step 2: Define the Bank Class \n",
    "The Bank class manages all accounts and provides admin functionalities. \n",
    "Attributes: \n",
    " accounts: A dictionary to store BankAccount objects, keyed by account numbers. \n",
    "Methods: \n",
    " open_account(account_holder): Creates a new account for the specified account \n",
    "holder. \n",
    " get_account(account_number): Retrieves an account object using its account number. \n",
    " transfer(sender_account_number, receiver_account_number, amount): Transfers \n",
    "money between two accounts. \n",
    " admin_check_total_deposit(): Returns the total balance of all accounts in the bank. \n",
    " admin_check_total_accounts(): Returns the total number of accounts in the bank."
   ]
  },
  {
   "cell_type": "code",
   "execution_count": 3,
   "id": "67cb4212-1dd7-4d26-9f41-50124b4100bc",
   "metadata": {},
   "outputs": [],
   "source": [
    "class Bank:\n",
    "    def __init__(self):\n",
    "        self.accounts = {}\n",
    "        self.total_deposits = 0\n",
    "\n",
    "    def open_account(self, account_holder):\n",
    "        account_number = len(self.accounts) + 1\n",
    "        new_account = BankAccount(account_number, account_holder)\n",
    "        self.accounts[account_number] = new_account\n",
    "        print(f\"Account {account_number} opened for {account_holder}.\")\n",
    "        return account_number\n",
    "\n",
    "    def get_account(self, account_number):\n",
    "        return self.accounts.get(account_number)\n",
    "\n",
    "    def transfer(self, sender_account_number, receiver_account_number, amount):\n",
    "        sender = self.get_account(sender_account_number)\n",
    "        receiver = self.get_account(receiver_account_number)\n",
    "        if sender and receiver:\n",
    "            if sender.withdraw(amount):\n",
    "                receiver.deposit(amount)\n",
    "                print(f\"Transferred ${amount} from Account {sender_account_number} to {receiver_account_number}.\")\n",
    "                return True\n",
    "        print(\"Transfer failed.\")\n",
    "        return False\n",
    "\n",
    "    def admin_check_total_deposits(self):\n",
    "        return sum(account.check_balance() for account in self.accounts.values())\n",
    "\n",
    "    def admin_check_total_accounts(self):\n",
    "        return len(self.accounts)\n"
   ]
  },
  {
   "cell_type": "markdown",
   "id": "144e391a-2c9e-4c70-b6dc-a505186bceff",
   "metadata": {},
   "source": [
    "Step 3: Create a Menu-Driven Interface \n",
    "Provide an interactive menu to handle user and admin operations. "
   ]
  },
  {
   "cell_type": "code",
   "execution_count": 8,
   "id": "14444415-59b9-4ae3-a15f-2d36fb4ac577",
   "metadata": {},
   "outputs": [
    {
     "name": "stdout",
     "output_type": "stream",
     "text": [
      "\n",
      "1. Open Account\n",
      "2. Deposit\n",
      "3. Withdraw\n",
      "4. Check Balance\n",
      "5. Transfer\n",
      "6. Print Statement\n",
      "7. Admin: Total Deposits\n",
      "8. Admin: Total Accounts\n",
      "9. Exit\n"
     ]
    },
    {
     "name": "stdin",
     "output_type": "stream",
     "text": [
      "Select an option:  1\n",
      "Enter account holder name:  ADNAN\n"
     ]
    },
    {
     "name": "stdout",
     "output_type": "stream",
     "text": [
      "Account 1 opened for ADNAN.\n",
      "\n",
      "1. Open Account\n",
      "2. Deposit\n",
      "3. Withdraw\n",
      "4. Check Balance\n",
      "5. Transfer\n",
      "6. Print Statement\n",
      "7. Admin: Total Deposits\n",
      "8. Admin: Total Accounts\n",
      "9. Exit\n"
     ]
    },
    {
     "name": "stdin",
     "output_type": "stream",
     "text": [
      "Select an option:  9\n"
     ]
    },
    {
     "name": "stdout",
     "output_type": "stream",
     "text": [
      "Exiting system. Goodbye!\n"
     ]
    }
   ],
   "source": [
    "def main():\n",
    "    bank = Bank()\n",
    "    while True:\n",
    "        print(\"\\n1. Open Account\\n2. Deposit\\n3. Withdraw\\n4. Check Balance\\n5. Transfer\\n6. Print Statement\\n7. Admin: Total Deposits\\n8. Admin: Total Accounts\\n9. Exit\")\n",
    "        choice = input(\"Select an option: \")\n",
    "        \n",
    "        if choice == \"1\":\n",
    "            name = input(\"Enter account holder name: \")\n",
    "            bank.open_account(name)\n",
    "        elif choice == \"2\":\n",
    "            acc_num = int(input(\"Enter account number: \"))\n",
    "            amount = float(input(\"Enter deposit amount: \"))\n",
    "            account = bank.get_account(acc_num)\n",
    "            if account:\n",
    "                account.deposit(amount)\n",
    "            else:\n",
    "                print(\"Account not found.\")\n",
    "        elif choice == \"3\":\n",
    "            acc_num = int(input(\"Enter account number: \"))\n",
    "            amount = float(input(\"Enter withdrawal amount: \"))\n",
    "            account = bank.get_account(acc_num)\n",
    "            if account:\n",
    "                account.withdraw(amount)\n",
    "            else:\n",
    "                print(\"Account not found.\")\n",
    "        elif choice == \"4\":\n",
    "            acc_num = int(input(\"Enter account number: \"))\n",
    "            account = bank.get_account(acc_num)\n",
    "            if account:\n",
    "                print(f\"Balance: ${account.check_balance()}\")\n",
    "            else:\n",
    "                print(\"Account not found.\")\n",
    "        elif choice == \"5\":\n",
    "            sender = int(input(\"Enter sender account number: \"))\n",
    "            receiver = int(input(\"Enter receiver account number: \"))\n",
    "            amount = float(input(\"Enter transfer amount: \"))\n",
    "            bank.transfer(sender, receiver, amount)\n",
    "        elif choice == \"6\":\n",
    "            acc_num = int(input(\"Enter account number: \"))\n",
    "            account = bank.get_account(acc_num)\n",
    "            if account:\n",
    "                account.print_statement()\n",
    "            else:\n",
    "                print(\"Account not found.\")\n",
    "        elif choice == \"7\":\n",
    "            print(f\"Total Deposits: ${bank.admin_check_total_deposits()}\")\n",
    "        elif choice == \"8\":\n",
    "            print(f\"Total Accounts: {bank.admin_check_total_accounts()}\")\n",
    "        elif choice == \"9\":\n",
    "            print(\"Exiting system. Goodbye!\")\n",
    "            break\n",
    "        else:\n",
    "            print(\"Invalid option. Try again.\")\n",
    "\n",
    "if __name__ == \"__main__\":\n",
    "    main()\n"
   ]
  },
  {
   "cell_type": "code",
   "execution_count": null,
   "id": "d5aa5b7d-cf4d-43fc-84c7-3038d01543ad",
   "metadata": {},
   "outputs": [
    {
     "name": "stdout",
     "output_type": "stream",
     "text": [
      "Pre-configured account for Adnan added to the system.\n",
      "\n",
      "1. Open Account\n",
      "2. Deposit\n",
      "3. Withdraw\n",
      "4. Check Balance\n",
      "5. Transfer\n",
      "6. Print Statement\n",
      "7. Admin: Total Deposits\n",
      "8. Admin: Total Accounts\n",
      "9. Exit\n"
     ]
    },
    {
     "name": "stdin",
     "output_type": "stream",
     "text": [
      "Select an option:  2\n",
      "Enter account number:  00003052421885\n",
      "Enter deposit amount:  20126\n"
     ]
    },
    {
     "name": "stdout",
     "output_type": "stream",
     "text": [
      "\n",
      "1. Open Account\n",
      "2. Deposit\n",
      "3. Withdraw\n",
      "4. Check Balance\n",
      "5. Transfer\n",
      "6. Print Statement\n",
      "7. Admin: Total Deposits\n",
      "8. Admin: Total Accounts\n",
      "9. Exit\n"
     ]
    },
    {
     "name": "stdin",
     "output_type": "stream",
     "text": [
      "Select an option:  4\n",
      "Enter account number:  00003052421885\n"
     ]
    },
    {
     "name": "stdout",
     "output_type": "stream",
     "text": [
      "Balance: $40252.0\n",
      "\n",
      "1. Open Account\n",
      "2. Deposit\n",
      "3. Withdraw\n",
      "4. Check Balance\n",
      "5. Transfer\n",
      "6. Print Statement\n",
      "7. Admin: Total Deposits\n",
      "8. Admin: Total Accounts\n",
      "9. Exit\n"
     ]
    },
    {
     "name": "stdin",
     "output_type": "stream",
     "text": [
      "Select an option:  1\n",
      "Enter account holder name:  Mujeeb\n"
     ]
    },
    {
     "name": "stdout",
     "output_type": "stream",
     "text": [
      "Account 2 opened for Mujeeb.\n",
      "\n",
      "1. Open Account\n",
      "2. Deposit\n",
      "3. Withdraw\n",
      "4. Check Balance\n",
      "5. Transfer\n",
      "6. Print Statement\n",
      "7. Admin: Total Deposits\n",
      "8. Admin: Total Accounts\n",
      "9. Exit\n"
     ]
    },
    {
     "name": "stdin",
     "output_type": "stream",
     "text": [
      "Select an option:  6\n",
      "Enter account number:  00003052421885\n"
     ]
    },
    {
     "name": "stdout",
     "output_type": "stream",
     "text": [
      "Transaction History for Account 00003052421885:\n",
      "Deposited: $20126.0\n",
      "\n",
      "1. Open Account\n",
      "2. Deposit\n",
      "3. Withdraw\n",
      "4. Check Balance\n",
      "5. Transfer\n",
      "6. Print Statement\n",
      "7. Admin: Total Deposits\n",
      "8. Admin: Total Accounts\n",
      "9. Exit\n"
     ]
    },
    {
     "name": "stdin",
     "output_type": "stream",
     "text": [
      "Select an option:  7\n"
     ]
    },
    {
     "name": "stdout",
     "output_type": "stream",
     "text": [
      "Total Deposits: $40252.0\n",
      "\n",
      "1. Open Account\n",
      "2. Deposit\n",
      "3. Withdraw\n",
      "4. Check Balance\n",
      "5. Transfer\n",
      "6. Print Statement\n",
      "7. Admin: Total Deposits\n",
      "8. Admin: Total Accounts\n",
      "9. Exit\n"
     ]
    },
    {
     "name": "stdin",
     "output_type": "stream",
     "text": [
      "Select an option:  8\n"
     ]
    },
    {
     "name": "stdout",
     "output_type": "stream",
     "text": [
      "Total Accounts: 2\n",
      "\n",
      "1. Open Account\n",
      "2. Deposit\n",
      "3. Withdraw\n",
      "4. Check Balance\n",
      "5. Transfer\n",
      "6. Print Statement\n",
      "7. Admin: Total Deposits\n",
      "8. Admin: Total Accounts\n",
      "9. Exit\n"
     ]
    },
    {
     "name": "stdin",
     "output_type": "stream",
     "text": [
      "Select an option:  4\n",
      "Enter account number:  00003052421885\n"
     ]
    },
    {
     "name": "stdout",
     "output_type": "stream",
     "text": [
      "Balance: $40252.0\n",
      "\n",
      "1. Open Account\n",
      "2. Deposit\n",
      "3. Withdraw\n",
      "4. Check Balance\n",
      "5. Transfer\n",
      "6. Print Statement\n",
      "7. Admin: Total Deposits\n",
      "8. Admin: Total Accounts\n",
      "9. Exit\n"
     ]
    },
    {
     "name": "stdin",
     "output_type": "stream",
     "text": [
      "Select an option:  2\n",
      "Enter account number:  1015\n",
      "Enter deposit amount:  1\n"
     ]
    },
    {
     "name": "stdout",
     "output_type": "stream",
     "text": [
      "Account not found.\n",
      "\n",
      "1. Open Account\n",
      "2. Deposit\n",
      "3. Withdraw\n",
      "4. Check Balance\n",
      "5. Transfer\n",
      "6. Print Statement\n",
      "7. Admin: Total Deposits\n",
      "8. Admin: Total Accounts\n",
      "9. Exit\n"
     ]
    },
    {
     "name": "stdin",
     "output_type": "stream",
     "text": [
      "Select an option:  2\n",
      "Enter account number:  00003052421885\n",
      "Enter deposit amount:  1019\n"
     ]
    },
    {
     "name": "stdout",
     "output_type": "stream",
     "text": [
      "\n",
      "1. Open Account\n",
      "2. Deposit\n",
      "3. Withdraw\n",
      "4. Check Balance\n",
      "5. Transfer\n",
      "6. Print Statement\n",
      "7. Admin: Total Deposits\n",
      "8. Admin: Total Accounts\n",
      "9. Exit\n"
     ]
    },
    {
     "name": "stdin",
     "output_type": "stream",
     "text": [
      "Select an option:  4\n",
      "Enter account number:  00003052421885\n"
     ]
    },
    {
     "name": "stdout",
     "output_type": "stream",
     "text": [
      "Balance: $41271.0\n",
      "\n",
      "1. Open Account\n",
      "2. Deposit\n",
      "3. Withdraw\n",
      "4. Check Balance\n",
      "5. Transfer\n",
      "6. Print Statement\n",
      "7. Admin: Total Deposits\n",
      "8. Admin: Total Accounts\n",
      "9. Exit\n"
     ]
    }
   ],
   "source": [
    "def main():\n",
    "    bank = Bank()\n",
    "\n",
    "    # Pre-create Adnan's account with the given details\n",
    "    adnan_account_number = \"00003052421885\"\n",
    "    adnan_account = BankAccount(adnan_account_number, \"Adnan\")\n",
    "    adnan_account.balance = 20126  # Setting initial balance\n",
    "    bank.accounts[adnan_account_number] = adnan_account\n",
    "\n",
    "    print(\"Pre-configured account for Adnan added to the system.\")\n",
    "\n",
    "    while True:\n",
    "        print(\"\\n1. Open Account\\n2. Deposit\\n3. Withdraw\\n4. Check Balance\\n5. Transfer\\n6. Print Statement\\n7. Admin: Total Deposits\\n8. Admin: Total Accounts\\n9. Exit\")\n",
    "        choice = input(\"Select an option: \")\n",
    "        \n",
    "        if choice == \"1\":\n",
    "            name = input(\"Enter account holder name: \")\n",
    "            bank.open_account(name)\n",
    "        elif choice == \"2\":\n",
    "            acc_num = input(\"Enter account number: \")\n",
    "            amount = float(input(\"Enter deposit amount: \"))\n",
    "            account = bank.get_account(acc_num)\n",
    "            if account:\n",
    "                account.deposit(amount)\n",
    "            else:\n",
    "                print(\"Account not found.\")\n",
    "        elif choice == \"3\":\n",
    "            acc_num = input(\"Enter account number: \")\n",
    "            amount = float(input(\"Enter withdrawal amount: \"))\n",
    "            account = bank.get_account(acc_num)\n",
    "            if account:\n",
    "                account.withdraw(amount)\n",
    "            else:\n",
    "                print(\"Account not found.\")\n",
    "        elif choice == \"4\":\n",
    "            acc_num = input(\"Enter account number: \")\n",
    "            account = bank.get_account(acc_num)\n",
    "            if account:\n",
    "                print(f\"Balance: ${account.check_balance()}\")\n",
    "            else:\n",
    "                print(\"Account not found.\")\n",
    "        elif choice == \"5\":\n",
    "            sender = input(\"Enter sender account number: \")\n",
    "            receiver = input(\"Enter receiver account number: \")\n",
    "            amount = float(input(\"Enter transfer amount: \"))\n",
    "            bank.transfer(sender, receiver, amount)\n",
    "        elif choice == \"6\":\n",
    "            acc_num = input(\"Enter account number: \")\n",
    "            account = bank.get_account(acc_num)\n",
    "            if account:\n",
    "                account.print_statement()\n",
    "            else:\n",
    "                print(\"Account not found.\")\n",
    "        elif choice == \"7\":\n",
    "            print(f\"Total Deposits: ${bank.admin_check_total_deposits()}\")\n",
    "        elif choice == \"8\":\n",
    "            print(f\"Total Accounts: {bank.admin_check_total_accounts()}\")\n",
    "        elif choice == \"9\":\n",
    "            print(\"Exiting system. Goodbye!\")\n",
    "            break\n",
    "        else:\n",
    "            print(\"Invalid option. Try again.\")\n",
    "\n",
    "if __name__ == \"__main__\":\n",
    "    main()\n",
    "\n"
   ]
  },
  {
   "cell_type": "code",
   "execution_count": null,
   "id": "04119643-3e37-4bbe-b1a5-f0eada0bd729",
   "metadata": {},
   "outputs": [],
   "source": []
  }
 ],
 "metadata": {
  "kernelspec": {
   "display_name": "Python 3 (ipykernel)",
   "language": "python",
   "name": "python3"
  },
  "language_info": {
   "codemirror_mode": {
    "name": "ipython",
    "version": 3
   },
   "file_extension": ".py",
   "mimetype": "text/x-python",
   "name": "python",
   "nbconvert_exporter": "python",
   "pygments_lexer": "ipython3",
   "version": "3.12.7"
  }
 },
 "nbformat": 4,
 "nbformat_minor": 5
}
