{
 "cells": [
  {
   "cell_type": "markdown",
   "id": "84a8aca0-92b0-46a7-891b-ad398b5119e8",
   "metadata": {},
   "source": [
    "A- Discounts and Pricing\n",
    "1. Check Discount Eligibility\n",
    "Write a program to check if a customer is eligible for a discount. If the total purchase is\n",
    "more than $100, apply a 10% discount and display the final price. Otherwise, display the\n",
    "total price as it is.\n",
    "2. Calculate Bulk Discount\n",
    "If a customer buys more than 5 items, apply a 15% discount on the total price. Otherwise,\n",
    "no discount is applied. Display the total price.\n",
    "3. Membership Discount\n",
    "Check if the customer is a member (is_member = True). Members get a 20% discount;\n",
    "non-members get a 5% discount. Calculate and print the discounted price.\n",
    "4. Seasonal Sale\n",
    "If today is a holiday (is_holiday = True), apply a 25% discount; otherwise, apply a 10%\n",
    "discount. Calculate the price after discount.\n",
    "5. Buy-One-Get-One-Free\n",
    "If a customer buys an even number of items, they get half of them for free. Otherwise,\n",
    "they pay for all. Calculate the number of items the customer has to pay for."
   ]
  },
  {
   "cell_type": "code",
   "execution_count": 1,
   "id": "2b15b4ee-0122-4e57-91d4-5656b71c18ba",
   "metadata": {},
   "outputs": [
    {
     "name": "stdout",
     "output_type": "stream",
     "text": [
      "Total Purchase: $184.28\n",
      "Eligible for 10% discount. Final Price: $165.85\n"
     ]
    }
   ],
   "source": [
    "import random\n",
    "\n",
    "# Generate random total purchase amount between 50 and 200\n",
    "total_purchase = random.uniform(50, 200)\n",
    "\n",
    "# Check if the total purchase is greater than $100\n",
    "if total_purchase > 100:\n",
    "    discount = 0.10\n",
    "    final_price = total_purchase * (1 - discount)\n",
    "    print(f\"Total Purchase: ${total_purchase:.2f}\")\n",
    "    print(f\"Eligible for 10% discount. Final Price: ${final_price:.2f}\")\n",
    "else:\n",
    "    print(f\"Total Purchase: ${total_purchase:.2f}\")\n",
    "    print(\"No discount applied.\")\n"
   ]
  },
  {
   "cell_type": "code",
   "execution_count": 2,
   "id": "84ca5151-d86a-4a93-aaeb-54c292888629",
   "metadata": {},
   "outputs": [
    {
     "name": "stdout",
     "output_type": "stream",
     "text": [
      "Number of items: 6\n",
      "Total Price: $388.78\n",
      "Bulk discount applied. Final Price: $330.46\n"
     ]
    }
   ],
   "source": [
    "# Generate random number of items (between 1 and 10) and total price (between 50 and 500)\n",
    "items = random.randint(1, 10)\n",
    "total_price = random.uniform(50, 500)\n",
    "\n",
    "# Apply discount if more than 5 items are purchased\n",
    "if items > 5:\n",
    "    discount = 0.15\n",
    "    final_price = total_price * (1 - discount)\n",
    "    print(f\"Number of items: {items}\")\n",
    "    print(f\"Total Price: ${total_price:.2f}\")\n",
    "    print(f\"Bulk discount applied. Final Price: ${final_price:.2f}\")\n",
    "else:\n",
    "    print(f\"Number of items: {items}\")\n",
    "    print(f\"Total Price: ${total_price:.2f}\")\n",
    "    print(\"No bulk discount applied.\")\n"
   ]
  },
  {
   "cell_type": "code",
   "execution_count": 3,
   "id": "2783c87c-a677-4bfc-9bc8-cbff78e093e4",
   "metadata": {},
   "outputs": [
    {
     "name": "stdout",
     "output_type": "stream",
     "text": [
      "Member status: Yes\n",
      "Total Price: $181.71\n",
      "20% Membership discount applied. Final Price: $145.37\n"
     ]
    }
   ],
   "source": [
    "# Generate random member status (True for member, False for non-member)\n",
    "is_member = random.choice([True, False])\n",
    "\n",
    "# Generate random total price (between 50 and 500)\n",
    "total_price = random.uniform(50, 500)\n",
    "\n",
    "# Apply membership discount\n",
    "if is_member:\n",
    "    discount = 0.20\n",
    "    final_price = total_price * (1 - discount)\n",
    "    print(f\"Member status: {'Yes' if is_member else 'No'}\")\n",
    "    print(f\"Total Price: ${total_price:.2f}\")\n",
    "    print(f\"20% Membership discount applied. Final Price: ${final_price:.2f}\")\n",
    "else:\n",
    "    discount = 0.05\n",
    "    final_price = total_price * (1 - discount)\n",
    "    print(f\"Member status: {'Yes' if is_member else 'No'}\")\n",
    "    print(f\"Total Price: ${total_price:.2f}\")\n",
    "    print(f\"5% Non-member discount applied. Final Price: ${final_price:.2f}\")\n"
   ]
  },
  {
   "cell_type": "code",
   "execution_count": 4,
   "id": "f8b3dcc8-e913-480c-9352-f0f4da101347",
   "metadata": {},
   "outputs": [
    {
     "name": "stdout",
     "output_type": "stream",
     "text": [
      "Holiday: Yes\n",
      "Total Price: $325.57\n",
      "25% Holiday discount applied. Final Price: $244.18\n"
     ]
    }
   ],
   "source": [
    "# Generate random holiday status (True for holiday, False otherwise)\n",
    "is_holiday = random.choice([True, False])\n",
    "\n",
    "# Generate random total price (between 50 and 500)\n",
    "total_price = random.uniform(50, 500)\n",
    "\n",
    "# Apply seasonal discount based on holiday status\n",
    "if is_holiday:\n",
    "    discount = 0.25\n",
    "    final_price = total_price * (1 - discount)\n",
    "    print(f\"Holiday: {'Yes' if is_holiday else 'No'}\")\n",
    "    print(f\"Total Price: ${total_price:.2f}\")\n",
    "    print(f\"25% Holiday discount applied. Final Price: ${final_price:.2f}\")\n",
    "else:\n",
    "    discount = 0.10\n",
    "    final_price = total_price * (1 - discount)\n",
    "    print(f\"Holiday: {'Yes' if is_holiday else 'No'}\")\n",
    "    print(f\"Total Price: ${total_price:.2f}\")\n",
    "    print(f\"10% Non-holiday discount applied. Final Price: ${final_price:.2f}\")\n"
   ]
  },
  {
   "cell_type": "code",
   "execution_count": 5,
   "id": "ae8b9528-4143-4804-bf11-cdc304b647f2",
   "metadata": {},
   "outputs": [
    {
     "name": "stdout",
     "output_type": "stream",
     "text": [
      "Number of items: 5\n",
      "No Buy-One-Get-One-Free offer. You pay for all items.\n"
     ]
    }
   ],
   "source": [
    "# Generate random number of items (between 1 and 10)\n",
    "items = random.randint(1, 10)\n",
    "\n",
    "# If the number of items is even, apply Buy-One-Get-One-Free\n",
    "if items % 2 == 0:\n",
    "    items_to_pay_for = items // 2\n",
    "    print(f\"Number of items: {items}\")\n",
    "    print(f\"Buy-One-Get-One-Free offer applied. You only pay for {items_to_pay_for} items.\")\n",
    "else:\n",
    "    print(f\"Number of items: {items}\")\n",
    "    print(\"No Buy-One-Get-One-Free offer. You pay for all items.\")\n"
   ]
  },
  {
   "cell_type": "markdown",
   "id": "42679a5a-e057-4109-aafd-8bb7ea14fbfa",
   "metadata": {},
   "source": [
    "B- Tax Calculations\n",
    "6. Sales Tax\n",
    "If the price of an item is greater than $500, apply a luxury tax of 15%. Otherwise, apply a\n",
    "standard tax of 8%. Display the total price after tax.\n",
    "7. Income Tax\n",
    "If a person&#39;s annual income is above $50,000, they pay 20% tax. Otherwise, they pay\n",
    "10%. Calculate and display the tax amount.\n",
    "8. Tax Bracket\n",
    "Write a program to categorize a person into tax brackets:\n",
    " Income &lt; $30,000: &quot;Low Tax&quot;\n",
    " $30,000 ≤ Income &lt; $100,000: &quot;Medium Tax&quot;\n",
    " Income ≥ $100,000: &quot;High Tax&quot;\n",
    "9. VAT Calculation\n",
    "If the item is marked as essential (is_essential = True), apply a VAT of 5%. Otherwise,\n",
    "apply a VAT of 12%. Display the final price.\n",
    "10. Tax-Free Day\n",
    "If today is a tax-free day (tax_free = True), display the original price. Otherwise, add a\n",
    "7% tax."
   ]
  },
  {
   "cell_type": "code",
   "execution_count": 6,
   "id": "2923be0e-a0be-4859-8188-252f9f3919f3",
   "metadata": {},
   "outputs": [
    {
     "name": "stdout",
     "output_type": "stream",
     "text": [
      "Price of the item: $921.24\n",
      "Tax applied: 15.0%\n",
      "Total price after tax: $1059.42\n"
     ]
    }
   ],
   "source": [
    "import random\n",
    "\n",
    "# Generate a random price for the item (between 100 and 1000)\n",
    "price = random.uniform(100, 1000)\n",
    "\n",
    "# Apply tax based on the price\n",
    "if price > 500:\n",
    "    tax_rate = 0.15  # luxury tax\n",
    "else:\n",
    "    tax_rate = 0.08  # standard tax\n",
    "\n",
    "# Calculate the total price after tax\n",
    "tax_amount = price * tax_rate\n",
    "total_price = price + tax_amount\n",
    "\n",
    "print(f\"Price of the item: ${price:.2f}\")\n",
    "print(f\"Tax applied: {tax_rate * 100}%\")\n",
    "print(f\"Total price after tax: ${total_price:.2f}\")\n"
   ]
  },
  {
   "cell_type": "code",
   "execution_count": 7,
   "id": "03015fce-1180-4d25-9301-63f5bca917f5",
   "metadata": {},
   "outputs": [
    {
     "name": "stdout",
     "output_type": "stream",
     "text": [
      "Annual income: $88685.77\n",
      "Tax rate: 20.0%\n",
      "Income tax amount: $17737.15\n"
     ]
    }
   ],
   "source": [
    "# Generate random annual income (between 30,000 and 100,000)\n",
    "income = random.uniform(30000, 100000)\n",
    "\n",
    "# Apply tax rate based on income\n",
    "if income > 50000:\n",
    "    tax_rate = 0.20  # 20% tax\n",
    "else:\n",
    "    tax_rate = 0.10  # 10% tax\n",
    "\n",
    "# Calculate the tax amount\n",
    "tax_amount = income * tax_rate\n",
    "\n",
    "print(f\"Annual income: ${income:.2f}\")\n",
    "print(f\"Tax rate: {tax_rate * 100}%\")\n",
    "print(f\"Income tax amount: ${tax_amount:.2f}\")\n"
   ]
  },
  {
   "cell_type": "code",
   "execution_count": 8,
   "id": "2b9000f8-766f-4c14-bcd7-d0f446db8954",
   "metadata": {},
   "outputs": [
    {
     "name": "stdout",
     "output_type": "stream",
     "text": [
      "Annual income: $85291.55\n",
      "Tax Bracket: Medium Tax\n"
     ]
    }
   ],
   "source": [
    "# Generate random annual income (between 20,000 and 150,000)\n",
    "income = random.uniform(20000, 150000)\n",
    "\n",
    "# Categorize the income into tax brackets\n",
    "if income < 30000:\n",
    "    tax_bracket = \"Low Tax\"\n",
    "elif income < 100000:\n",
    "    tax_bracket = \"Medium Tax\"\n",
    "else:\n",
    "    tax_bracket = \"High Tax\"\n",
    "\n",
    "print(f\"Annual income: ${income:.2f}\")\n",
    "print(f\"Tax Bracket: {tax_bracket}\")\n"
   ]
  },
  {
   "cell_type": "code",
   "execution_count": 9,
   "id": "0b330ce3-f66d-4f63-9866-2ff28788ce27",
   "metadata": {},
   "outputs": [
    {
     "name": "stdout",
     "output_type": "stream",
     "text": [
      "Item price: $477.39\n",
      "VAT rate applied: 12.0%\n",
      "Final price after VAT: $534.68\n"
     ]
    }
   ],
   "source": [
    "# Generate random essential item status (True or False)\n",
    "is_essential = random.choice([True, False])\n",
    "\n",
    "# Generate random item price (between 100 and 500)\n",
    "price = random.uniform(100, 500)\n",
    "\n",
    "# Apply VAT based on the essential status\n",
    "if is_essential:\n",
    "    vat_rate = 0.05  # 5% VAT for essential items\n",
    "else:\n",
    "    vat_rate = 0.12  # 12% VAT for non-essential items\n",
    "\n",
    "# Calculate final price with VAT\n",
    "vat_amount = price * vat_rate\n",
    "final_price = price + vat_amount\n",
    "\n",
    "print(f\"Item price: ${price:.2f}\")\n",
    "print(f\"VAT rate applied: {vat_rate * 100}%\")\n",
    "print(f\"Final price after VAT: ${final_price:.2f}\")\n"
   ]
  },
  {
   "cell_type": "code",
   "execution_count": 10,
   "id": "17e07c96-c387-44ae-a4f2-9feadec1f57e",
   "metadata": {},
   "outputs": [
    {
     "name": "stdout",
     "output_type": "stream",
     "text": [
      "Tax-free day: No\n",
      "Original price: $394.65\n",
      "Tax applied: 7.000000000000001%\n",
      "Total price after tax: $422.27\n"
     ]
    }
   ],
   "source": [
    "# Generate random tax-free day status (True or False)\n",
    "tax_free = random.choice([True, False])\n",
    "\n",
    "# Generate random item price (between 50 and 500)\n",
    "price = random.uniform(50, 500)\n",
    "\n",
    "# Apply tax if it's not a tax-free day\n",
    "if tax_free:\n",
    "    print(f\"Today is a tax-free day. Original price: ${price:.2f}\")\n",
    "else:\n",
    "    tax_rate = 0.07  # 7% tax\n",
    "    tax_amount = price * tax_rate\n",
    "    total_price = price + tax_amount\n",
    "    print(f\"Tax-free day: {'Yes' if tax_free else 'No'}\")\n",
    "    print(f\"Original price: ${price:.2f}\")\n",
    "    print(f\"Tax applied: {tax_rate * 100}%\")\n",
    "    print(f\"Total price after tax: ${total_price:.2f}\")\n"
   ]
  },
  {
   "cell_type": "markdown",
   "id": "acedd63e-d25a-40be-b2af-4da08207174c",
   "metadata": {},
   "source": [
    "C- Shopping and Billing\n",
    "11. Free Shipping\n",
    "If the total purchase amount is more than $50, offer free shipping; otherwise, charge $5\n",
    "for shipping. Display the total amount including shipping.\n",
    "12. Discount Code\n",
    "If a customer enters the correct discount code (DISCOUNT10), apply a 10% discount.\n",
    "Otherwise, charge the full amount.\n",
    "13. Tiered Discounts\n",
    "Apply discounts based on the total price:\n",
    " $0–$50: No discount.\n",
    " $50–$100: 10% discount.\n",
    " Over $100: 20% discount.\n",
    "14. Minimum Purchase Requirement\n",
    "If the total amount is less than $20, display a message: &quot;Minimum purchase of $20 is\n",
    "required.&quot; Otherwise, display the total amount.\n",
    "15. Loyalty Points\n",
    "If a customer is a loyal member (is_loyal = True), they earn double loyalty points for\n",
    "their purchase. Otherwise, they earn standard points."
   ]
  },
  {
   "cell_type": "code",
   "execution_count": 11,
   "id": "174245bb-0cfa-403f-8f3b-fb5ca9c06549",
   "metadata": {},
   "outputs": [
    {
     "name": "stdout",
     "output_type": "stream",
     "text": [
      "Total Purchase: $71.82\n",
      "Free shipping applied.\n",
      "Total Amount (including shipping): $71.82\n"
     ]
    }
   ],
   "source": [
    "import random\n",
    "\n",
    "# Generate random total purchase amount (between 10 and 200)\n",
    "total_purchase = random.uniform(10, 200)\n",
    "\n",
    "# Check if the total purchase amount is more than $50\n",
    "if total_purchase > 50:\n",
    "    shipping_cost = 0  # Free shipping\n",
    "    print(f\"Total Purchase: ${total_purchase:.2f}\")\n",
    "    print(\"Free shipping applied.\")\n",
    "else:\n",
    "    shipping_cost = 5  # $5 shipping fee\n",
    "    print(f\"Total Purchase: ${total_purchase:.2f}\")\n",
    "    print(f\"$5 shipping fee applied.\")\n",
    "\n",
    "# Calculate the total amount including shipping\n",
    "total_amount = total_purchase + shipping_cost\n",
    "print(f\"Total Amount (including shipping): ${total_amount:.2f}\")\n"
   ]
  },
  {
   "cell_type": "code",
   "execution_count": 12,
   "id": "0da3a0de-b775-4acb-b5e2-a061f3904d6a",
   "metadata": {},
   "outputs": [
    {
     "name": "stdout",
     "output_type": "stream",
     "text": [
      "Discount Code: INVALIDCODE\n",
      "Total Purchase: $188.00\n",
      "No discount applied. Full amount charged.\n"
     ]
    }
   ],
   "source": [
    "# Generate random total purchase amount (between 10 and 200)\n",
    "total_purchase = random.uniform(10, 200)\n",
    "\n",
    "# Generate random discount code entry (correct or incorrect)\n",
    "discount_code = random.choice(['DISCOUNT10', 'INVALIDCODE'])\n",
    "\n",
    "# Check if the discount code is correct\n",
    "if discount_code == 'DISCOUNT10':\n",
    "    discount = 0.10  # 10% discount\n",
    "    discount_amount = total_purchase * discount\n",
    "    final_price = total_purchase - discount_amount\n",
    "    print(f\"Discount Code: {discount_code}\")\n",
    "    print(f\"Total Purchase: ${total_purchase:.2f}\")\n",
    "    print(f\"10% discount applied. Final Price: ${final_price:.2f}\")\n",
    "else:\n",
    "    print(f\"Discount Code: {discount_code}\")\n",
    "    print(f\"Total Purchase: ${total_purchase:.2f}\")\n",
    "    print(\"No discount applied. Full amount charged.\")\n"
   ]
  },
  {
   "cell_type": "code",
   "execution_count": 13,
   "id": "f2fe6579-e8fe-411d-81d8-cf9ab0d38f5a",
   "metadata": {},
   "outputs": [
    {
     "name": "stdout",
     "output_type": "stream",
     "text": [
      "Total Purchase: $10.89\n",
      "Discount applied: 0%\n",
      "Final Price after discount: $10.89\n"
     ]
    }
   ],
   "source": [
    "# Generate random total purchase amount (between 0 and 150)\n",
    "total_purchase = random.uniform(0, 150)\n",
    "\n",
    "# Apply tiered discounts\n",
    "if total_purchase <= 50:\n",
    "    discount = 0  # No discount\n",
    "elif total_purchase <= 100:\n",
    "    discount = 0.10  # 10% discount\n",
    "else:\n",
    "    discount = 0.20  # 20% discount\n",
    "\n",
    "discount_amount = total_purchase * discount\n",
    "final_price = total_purchase - discount_amount\n",
    "\n",
    "print(f\"Total Purchase: ${total_purchase:.2f}\")\n",
    "print(f\"Discount applied: {discount * 100}%\")\n",
    "print(f\"Final Price after discount: ${final_price:.2f}\")\n"
   ]
  },
  {
   "cell_type": "code",
   "execution_count": 14,
   "id": "f5688862-9b46-49d1-beaf-18c67d56b6a8",
   "metadata": {},
   "outputs": [
    {
     "name": "stdout",
     "output_type": "stream",
     "text": [
      "Total Purchase: $49.91\n",
      "Total amount: $49.91\n"
     ]
    }
   ],
   "source": [
    "# Generate random total purchase amount (between 10 and 50)\n",
    "total_purchase = random.uniform(10, 50)\n",
    "\n",
    "# Check if the purchase is above the minimum requirement\n",
    "if total_purchase < 20:\n",
    "    print(f\"Total Purchase: ${total_purchase:.2f}\")\n",
    "    print(\"Minimum purchase of $20 is required.\")\n",
    "else:\n",
    "    print(f\"Total Purchase: ${total_purchase:.2f}\")\n",
    "    print(f\"Total amount: ${total_purchase:.2f}\")\n"
   ]
  },
  {
   "cell_type": "code",
   "execution_count": 15,
   "id": "1a53a10e-4341-4280-8a0e-d8cfe9f0ff22",
   "metadata": {},
   "outputs": [
    {
     "name": "stdout",
     "output_type": "stream",
     "text": [
      "Loyal Member: No\n",
      "Total Purchase: $41.03\n",
      "Loyalty Points Earned: 41.03\n"
     ]
    }
   ],
   "source": [
    "# Generate random loyal member status (True or False)\n",
    "is_loyal = random.choice([True, False])\n",
    "\n",
    "# Generate random total purchase amount (between 10 and 200)\n",
    "total_purchase = random.uniform(10, 200)\n",
    "\n",
    "# Standard loyalty points (1 point per $1 spent)\n",
    "loyalty_points = total_purchase\n",
    "\n",
    "# If the customer is a loyal member, they earn double loyalty points\n",
    "if is_loyal:\n",
    "    loyalty_points *= 2  # Double points for loyal members\n",
    "    print(f\"Loyal Member: Yes\")\n",
    "else:\n",
    "    print(f\"Loyal Member: No\")\n",
    "\n",
    "print(f\"Total Purchase: ${total_purchase:.2f}\")\n",
    "print(f\"Loyalty Points Earned: {loyalty_points:.2f}\")\n"
   ]
  },
  {
   "cell_type": "markdown",
   "id": "01e73b9b-8254-4487-a7dd-815bd5c055b6",
   "metadata": {},
   "source": [
    "D- Travel and Tickets\n",
    "16. Travel Discount\n",
    "If a person is traveling more than 500 miles, offer a 20% discount on ticket price.\n",
    "Otherwise, charge the full amount.\n",
    "17. Child or Senior Discount\n",
    "If a passenger is under 12 or over 60 years old, apply a 15% discount on the ticket price.\n",
    "Otherwise, charge the full price.\n",
    "18. Ticket Type Pricing\n",
    "If the ticket is for a weekend (is_weekend = True), add a 10% surcharge. Otherwise,\n",
    "charge the standard price.\n",
    "19. Baggage Fee\n",
    "If the total baggage weight is over 20kg, charge $10 per extra kilogram. Otherwise, no\n",
    "extra fee.\n",
    "\n",
    "20. Early Bird Discount\n",
    "If a ticket is booked more than 30 days in advance, apply a 10% discount. Otherwise,\n",
    "charge the full price."
   ]
  },
  {
   "cell_type": "code",
   "execution_count": 16,
   "id": "1e0f8f2b-855c-4741-ac69-498d7dedb4d5",
   "metadata": {},
   "outputs": [
    {
     "name": "stdout",
     "output_type": "stream",
     "text": [
      "Travel Distance: 191.98 miles\n",
      "Ticket Price: $285.00\n",
      "Final Ticket Price: $285.00\n"
     ]
    }
   ],
   "source": [
    "import random\n",
    "\n",
    "# Generate a random travel distance (between 100 and 1000 miles)\n",
    "distance = random.uniform(100, 1000)\n",
    "\n",
    "# Generate random ticket price (between $50 and $500)\n",
    "ticket_price = random.uniform(50, 500)\n",
    "\n",
    "# Apply discount if distance is more than 500 miles\n",
    "if distance > 500:\n",
    "    discount = 0.20  # 20% discount\n",
    "else:\n",
    "    discount = 0  # No discount\n",
    "\n",
    "# Calculate final ticket price after discount\n",
    "discount_amount = ticket_price * discount\n",
    "final_price = ticket_price - discount_amount\n",
    "\n",
    "print(f\"Travel Distance: {distance:.2f} miles\")\n",
    "print(f\"Ticket Price: ${ticket_price:.2f}\")\n",
    "if discount > 0:\n",
    "    print(f\"20% discount applied.\")\n",
    "print(f\"Final Ticket Price: ${final_price:.2f}\")\n"
   ]
  },
  {
   "cell_type": "code",
   "execution_count": 17,
   "id": "2c56be4a-7c1a-4037-bc15-ce8d4751e0b8",
   "metadata": {},
   "outputs": [
    {
     "name": "stdout",
     "output_type": "stream",
     "text": [
      "Age: 92 years\n",
      "Ticket Price: $338.54\n",
      "15% discount applied.\n",
      "Final Ticket Price: $287.76\n"
     ]
    }
   ],
   "source": [
    "# Generate a random age (between 1 and 100)\n",
    "age = random.randint(1, 100)\n",
    "\n",
    "# Generate random ticket price (between $50 and $500)\n",
    "ticket_price = random.uniform(50, 500)\n",
    "\n",
    "# Apply discount if age is under 12 or over 60\n",
    "if age < 12 or age > 60:\n",
    "    discount = 0.15  # 15% discount\n",
    "else:\n",
    "    discount = 0  # No discount\n",
    "\n",
    "# Calculate final ticket price after discount\n",
    "discount_amount = ticket_price * discount\n",
    "final_price = ticket_price - discount_amount\n",
    "\n",
    "print(f\"Age: {age} years\")\n",
    "print(f\"Ticket Price: ${ticket_price:.2f}\")\n",
    "if discount > 0:\n",
    "    print(f\"15% discount applied.\")\n",
    "print(f\"Final Ticket Price: ${final_price:.2f}\")\n"
   ]
  },
  {
   "cell_type": "code",
   "execution_count": 18,
   "id": "790cdc69-1755-4a2d-ad7d-53e00bfdd542",
   "metadata": {},
   "outputs": [
    {
     "name": "stdout",
     "output_type": "stream",
     "text": [
      "Ticket is for the weekend. 10% surcharge applied.\n",
      "Ticket Price: $266.09\n",
      "Final Ticket Price: $292.69\n"
     ]
    }
   ],
   "source": [
    "# Generate random weekend status (True or False)\n",
    "is_weekend = random.choice([True, False])\n",
    "\n",
    "# Generate random ticket price (between $50 and $500)\n",
    "ticket_price = random.uniform(50, 500)\n",
    "\n",
    "# Apply surcharge if it is a weekend\n",
    "if is_weekend:\n",
    "    surcharge = 0.10  # 10% surcharge\n",
    "    surcharge_amount = ticket_price * surcharge\n",
    "    final_price = ticket_price + surcharge_amount\n",
    "    print(f\"Ticket is for the weekend. 10% surcharge applied.\")\n",
    "else:\n",
    "    final_price = ticket_price\n",
    "    print(f\"Ticket is not for the weekend. No surcharge applied.\")\n",
    "\n",
    "print(f\"Ticket Price: ${ticket_price:.2f}\")\n",
    "print(f\"Final Ticket Price: ${final_price:.2f}\")\n"
   ]
  },
  {
   "cell_type": "code",
   "execution_count": 19,
   "id": "3de9a0da-bb58-4a0e-b2ea-ccbe6440df20",
   "metadata": {},
   "outputs": [
    {
     "name": "stdout",
     "output_type": "stream",
     "text": [
      "Baggage Weight: 21.55 kg\n",
      "Baggage Fee: $15.46\n"
     ]
    }
   ],
   "source": [
    "# Generate random baggage weight (between 10 and 50 kg)\n",
    "baggage_weight = random.uniform(10, 50)\n",
    "\n",
    "# Generate random baggage fee per kg (if over 20kg)\n",
    "if baggage_weight > 20:\n",
    "    excess_weight = baggage_weight - 20\n",
    "    baggage_fee = excess_weight * 10  # $10 per extra kg\n",
    "else:\n",
    "    baggage_fee = 0  # No baggage fee\n",
    "\n",
    "print(f\"Baggage Weight: {baggage_weight:.2f} kg\")\n",
    "print(f\"Baggage Fee: ${baggage_fee:.2f}\")\n"
   ]
  },
  {
   "cell_type": "code",
   "execution_count": 20,
   "id": "05e63443-7f32-41d7-b5e1-11a0dee37807",
   "metadata": {},
   "outputs": [
    {
     "name": "stdout",
     "output_type": "stream",
     "text": [
      "Days in Advance: 48 days\n",
      "Ticket Price: $53.81\n",
      "10% Early Bird discount applied.\n",
      "Final Ticket Price: $48.43\n"
     ]
    }
   ],
   "source": [
    "# Generate random days in advance (between 1 and 60)\n",
    "days_in_advance = random.randint(1, 60)\n",
    "\n",
    "# Generate random ticket price (between $50 and $500)\n",
    "ticket_price = random.uniform(50, 500)\n",
    "\n",
    "# Apply discount if booked more than 30 days in advance\n",
    "if days_in_advance > 30:\n",
    "    discount = 0.10  # 10% discount\n",
    "else:\n",
    "    discount = 0  # No discount\n",
    "\n",
    "# Calculate final ticket price after discount\n",
    "discount_amount = ticket_price * discount\n",
    "final_price = ticket_price - discount_amount\n",
    "\n",
    "print(f\"Days in Advance: {days_in_advance} days\")\n",
    "print(f\"Ticket Price: ${ticket_price:.2f}\")\n",
    "if discount > 0:\n",
    "    print(f\"10% Early Bird discount applied.\")\n",
    "print(f\"Final Ticket Price: ${final_price:.2f}\")\n"
   ]
  },
  {
   "cell_type": "markdown",
   "id": "8cbf1198-94ae-4bed-8818-987ac9998f8b",
   "metadata": {},
   "source": [
    "E- Grades and Performance\n",
    "21. Pass or Fail\n",
    "If a student scores 40 or more, print &quot;Pass&quot;. Otherwise, print &quot;Fail&quot;.\n",
    "22. Grade Assignment\n",
    "Based on a student&#39;s score, assign grades:\n",
    " 90 and above: &quot;A&quot;\n",
    " 75–89: &quot;B&quot;\n",
    " 50–74: &quot;C&quot;\n",
    " Below 50: &quot;F&quot;\n",
    "23. Bonus Marks\n",
    "If a student completes all assignments, add 5 bonus marks to their score. Otherwise, no\n",
    "bonus marks.\n",
    "24. Attendance Eligibility\n",
    "If a student&#39;s attendance is 75% or more, they are eligible to take the exam. Otherwise,\n",
    "they are not.\n",
    "\n",
    "25. Scholarship Eligibility\n",
    "If a student&#39;s grade is &quot;A&quot; and their annual family income is below $30,000, they are\n",
    "eligible for a scholarship. Otherwise, they are not."
   ]
  },
  {
   "cell_type": "code",
   "execution_count": 21,
   "id": "02a8c87f-935d-4abd-85ca-5e1a7b9b7771",
   "metadata": {},
   "outputs": [
    {
     "name": "stdout",
     "output_type": "stream",
     "text": [
      "Student Score: 46\n",
      "Result: Pass\n"
     ]
    }
   ],
   "source": [
    "import random\n",
    "\n",
    "# Generate a random score (between 0 and 100)\n",
    "score = random.randint(0, 100)\n",
    "\n",
    "# Check if the student passes or fails\n",
    "if score >= 40:\n",
    "    result = \"Pass\"\n",
    "else:\n",
    "    result = \"Fail\"\n",
    "\n",
    "print(f\"Student Score: {score}\")\n",
    "print(f\"Result: {result}\")\n"
   ]
  },
  {
   "cell_type": "code",
   "execution_count": 22,
   "id": "5e22ad57-094e-4fc0-bb47-f6821c4e85ba",
   "metadata": {},
   "outputs": [
    {
     "name": "stdout",
     "output_type": "stream",
     "text": [
      "Student Score: 12\n",
      "Assigned Grade: F\n"
     ]
    }
   ],
   "source": [
    "# Generate a random score (between 0 and 100)\n",
    "score = random.randint(0, 100)\n",
    "\n",
    "# Assign grade based on score\n",
    "if score >= 90:\n",
    "    grade = \"A\"\n",
    "elif 75 <= score < 90:\n",
    "    grade = \"B\"\n",
    "elif 50 <= score < 75:\n",
    "    grade = \"C\"\n",
    "else:\n",
    "    grade = \"F\"\n",
    "\n",
    "print(f\"Student Score: {score}\")\n",
    "print(f\"Assigned Grade: {grade}\")\n"
   ]
  },
  {
   "cell_type": "code",
   "execution_count": 23,
   "id": "06d124d3-7170-42c6-9c8a-270bf3e1565f",
   "metadata": {},
   "outputs": [
    {
     "name": "stdout",
     "output_type": "stream",
     "text": [
      "Student Score before Bonus: 64\n",
      "Assignments Completed: No\n",
      "No bonus marks.\n",
      "Final Score: 64\n"
     ]
    }
   ],
   "source": [
    "# Generate random values for assignments completion and score (between 0 and 100)\n",
    "completed_assignments = random.choice([True, False])\n",
    "score = random.randint(0, 100)\n",
    "\n",
    "# Add bonus marks if assignments are completed\n",
    "if completed_assignments:\n",
    "    score += 5\n",
    "    bonus_message = \"5 bonus marks added.\"\n",
    "else:\n",
    "    bonus_message = \"No bonus marks.\"\n",
    "\n",
    "print(f\"Student Score before Bonus: {score - 5 if completed_assignments else score}\")\n",
    "print(f\"Assignments Completed: {'Yes' if completed_assignments else 'No'}\")\n",
    "print(bonus_message)\n",
    "print(f\"Final Score: {score}\")\n"
   ]
  },
  {
   "cell_type": "code",
   "execution_count": 24,
   "id": "e2a8c41e-95d2-439e-8ab4-8d380bd9bf81",
   "metadata": {},
   "outputs": [
    {
     "name": "stdout",
     "output_type": "stream",
     "text": [
      "Student Attendance: 71.60%\n",
      "Exam Eligibility: Not Eligible\n"
     ]
    }
   ],
   "source": [
    "# Generate a random attendance percentage (between 50% and 100%)\n",
    "attendance_percentage = random.uniform(50, 100)\n",
    "\n",
    "# Check if the student is eligible based on attendance\n",
    "if attendance_percentage >= 75:\n",
    "    eligibility = \"Eligible\"\n",
    "else:\n",
    "    eligibility = \"Not Eligible\"\n",
    "\n",
    "print(f\"Student Attendance: {attendance_percentage:.2f}%\")\n",
    "print(f\"Exam Eligibility: {eligibility}\")\n"
   ]
  },
  {
   "cell_type": "code",
   "execution_count": 25,
   "id": "21b48cbc-e404-4a26-94ab-0252d411ac96",
   "metadata": {},
   "outputs": [
    {
     "name": "stdout",
     "output_type": "stream",
     "text": [
      "Student Grade: B\n",
      "Family Income: $27606\n",
      "Scholarship Eligibility: Not Eligible for Scholarship\n"
     ]
    }
   ],
   "source": [
    "# Generate random values for grade and family income\n",
    "grade = random.choice([\"A\", \"B\", \"C\", \"F\"])\n",
    "family_income = random.randint(20000, 50000)\n",
    "\n",
    "# Check if the student is eligible for a scholarship\n",
    "if grade == \"A\" and family_income < 30000:\n",
    "    scholarship_eligibility = \"Eligible for Scholarship\"\n",
    "else:\n",
    "    scholarship_eligibility = \"Not Eligible for Scholarship\"\n",
    "\n",
    "print(f\"Student Grade: {grade}\")\n",
    "print(f\"Family Income: ${family_income}\")\n",
    "print(f\"Scholarship Eligibility: {scholarship_eligibility}\")\n"
   ]
  },
  {
   "cell_type": "code",
   "execution_count": null,
   "id": "3becdf19-6b8b-4b06-bd88-8c8fc2d1c4f3",
   "metadata": {},
   "outputs": [],
   "source": []
  }
 ],
 "metadata": {
  "kernelspec": {
   "display_name": "Python 3 (ipykernel)",
   "language": "python",
   "name": "python3"
  },
  "language_info": {
   "codemirror_mode": {
    "name": "ipython",
    "version": 3
   },
   "file_extension": ".py",
   "mimetype": "text/x-python",
   "name": "python",
   "nbconvert_exporter": "python",
   "pygments_lexer": "ipython3",
   "version": "3.12.7"
  }
 },
 "nbformat": 4,
 "nbformat_minor": 5
}
