{
 "cells": [
  {
   "cell_type": "markdown",
   "id": "3fb38663-927a-4d62-a15e-d70741f29e85",
   "metadata": {},
   "source": [
    "List Assignment\n",
    "1. Write a program that accepts a list from user and print the alternate element of list.\n",
    "2. Write a program that accepts a list from user. Your program should reverse the content of list and\n",
    "display it. Do not use reverse() method.\n",
    "3. Find and display the largest number of a list without using built-in function max(). Your program\n",
    "should ask the user to input values in list from keyboard.\n",
    "4. Write a program that rotates the element of a list so that the element at the first index moves to the\n",
    "second index, the element in the second index moves to the third index, etc., and the element in the last\n",
    "index moves to the first index.\n",
    "5. Write a program that input a string and ask user to delete a given word from a string.\n",
    "6. Write a program that reads a string from the user containing a date in the form mm/dd/yyyy. It\n",
    "should print the date in the form March 12, 2021.\n",
    "7. Write a program with a function that accepts a string from keyboard and create a new string after\n",
    "converting character of each word capitalized. For instance, if the sentence is \"stop and smell the roses.\"\n",
    "the output should be \"Stop And Smell The Roses\"\n",
    "8. Find the sum of each row of matrix of size m x n. For example for the following matrix output will be\n",
    "like this :\n",
    "2 11 7 12\n",
    "5 2 9 15\n",
    "8 3 10 42\n",
    "Sum of row 1 = 32\n",
    "Sum of row 2 = 31\n",
    "Sum of row 3 = 63\n",
    "9. Write a program to add two matrices of size n x m.\n",
    "10. Write a program to multiply two matrices"
   ]
  },
  {
   "cell_type": "code",
   "execution_count": 6,
   "id": "bf6f4d2e-ac48-4397-b5d0-73fcad67f3e2",
   "metadata": {},
   "outputs": [
    {
     "name": "stdout",
     "output_type": "stream",
     "text": [
      "Original List: [91, 4, 76, 91, 23, 37, 41, 46, 52, 21]\n",
      "Alternate elements of the list are:\n",
      "91 76 23 41 52 "
     ]
    }
   ],
   "source": [
    "import random\n",
    "\n",
    "# Generate a random list of 10 numbers\n",
    "user_list = [random.randint(1, 100) for _ in range(10)]\n",
    "\n",
    "# Print alternate elements\n",
    "print(\"Original List:\", user_list)\n",
    "print(\"Alternate elements of the list are:\")\n",
    "for i in range(0, len(user_list), 2):\n",
    "    print(user_list[i], end=\" \")\n"
   ]
  },
  {
   "cell_type": "code",
   "execution_count": 7,
   "id": "ef29f8c2-aa6e-4ca7-9dda-56a0df885b22",
   "metadata": {},
   "outputs": [
    {
     "name": "stdout",
     "output_type": "stream",
     "text": [
      "\n",
      "Reversed List: [21, 52, 46, 41, 37, 23, 91, 76, 4, 91]\n"
     ]
    }
   ],
   "source": [
    "# Reverse the list manually\n",
    "reversed_list = user_list[::-1]\n",
    "\n",
    "# Display the reversed list\n",
    "print(\"\\nReversed List:\", reversed_list)"
   ]
  },
  {
   "cell_type": "code",
   "execution_count": 8,
   "id": "0f235e91-c025-48a0-aa67-7b77edc7586f",
   "metadata": {},
   "outputs": [
    {
     "name": "stdout",
     "output_type": "stream",
     "text": [
      "\n",
      "Largest number in the list: 91\n"
     ]
    }
   ],
   "source": [
    "# Find the largest number manually\n",
    "largest_number = user_list[0]\n",
    "for num in user_list:\n",
    "    if num > largest_number:\n",
    "        largest_number = num\n",
    "\n",
    "print(\"\\nLargest number in the list:\", largest_number)\n"
   ]
  },
  {
   "cell_type": "code",
   "execution_count": 9,
   "id": "7f974dd2-4a3b-496e-9d37-c35a5e912feb",
   "metadata": {},
   "outputs": [
    {
     "name": "stdout",
     "output_type": "stream",
     "text": [
      "\n",
      "List after rotation: [4, 76, 91, 23, 37, 41, 46, 52, 21, 91]\n"
     ]
    }
   ],
   "source": [
    "# Rotate the list\n",
    "rotated_list = user_list[1:] + [user_list[0]]\n",
    "\n",
    "# Display the rotated list\n",
    "print(\"\\nList after rotation:\", rotated_list)\n"
   ]
  },
  {
   "cell_type": "code",
   "execution_count": 10,
   "id": "2472ba2e-bd5f-4f58-ac74-add65de3475b",
   "metadata": {},
   "outputs": [
    {
     "name": "stdout",
     "output_type": "stream",
     "text": [
      "\n",
      "Modified String: This is a  sentence with a  word.\n"
     ]
    }
   ],
   "source": [
    "# Accept input string and word to delete\n",
    "input_string = \"This is a random sentence with a random word.\"\n",
    "word_to_delete = \"random\"\n",
    "\n",
    "# Remove the word from the string\n",
    "modified_string = input_string.replace(word_to_delete, \"\")\n",
    "\n",
    "# Display the modified string\n",
    "print(\"\\nModified String:\", modified_string)\n"
   ]
  },
  {
   "cell_type": "code",
   "execution_count": 11,
   "id": "bcbe1a54-c7d1-4081-88ba-7577988c70ec",
   "metadata": {},
   "outputs": [
    {
     "name": "stdout",
     "output_type": "stream",
     "text": [
      "\n",
      "Formatted Date: March 12, 2021\n"
     ]
    }
   ],
   "source": [
    "# Accept random date\n",
    "date_input = \"03/12/2021\"  # Random date\n",
    "\n",
    "# Convert the input date to the required format\n",
    "month_names = [\"January\", \"February\", \"March\", \"April\", \"May\", \"June\", \n",
    "               \"July\", \"August\", \"September\", \"October\", \"November\", \"December\"]\n",
    "\n",
    "month, day, year = date_input.split(\"/\")\n",
    "formatted_date = f\"{month_names[int(month)-1]} {int(day)}, {year}\"\n",
    "\n",
    "print(\"\\nFormatted Date:\", formatted_date)\n"
   ]
  },
  {
   "cell_type": "code",
   "execution_count": 12,
   "id": "cf5289c1-4764-49e1-a3bb-addfbc34e8d4",
   "metadata": {},
   "outputs": [
    {
     "name": "stdout",
     "output_type": "stream",
     "text": [
      "\n",
      "Capitalized Sentence: Stop And Smell The Roses.\n"
     ]
    }
   ],
   "source": [
    "# Function to capitalize each word in a sentence\n",
    "def capitalize_words(sentence):\n",
    "    return ' '.join(word.capitalize() for word in sentence.split())\n",
    "\n",
    "# Input sentence\n",
    "input_string = \"stop and smell the roses.\"\n",
    "\n",
    "# Capitalize the words\n",
    "capitalized_sentence = capitalize_words(input_string)\n",
    "\n",
    "print(\"\\nCapitalized Sentence:\", capitalized_sentence)\n"
   ]
  },
  {
   "cell_type": "code",
   "execution_count": 13,
   "id": "8c169ab0-81a4-49a0-aadb-065bc8482a3b",
   "metadata": {},
   "outputs": [
    {
     "name": "stdout",
     "output_type": "stream",
     "text": [
      "\n",
      "Matrix:\n",
      "[1, 10, 2, 1]\n",
      "[9, 10, 5, 8]\n",
      "[2, 5, 5, 7]\n",
      "Sum of row 1 = 14\n",
      "Sum of row 2 = 32\n",
      "Sum of row 3 = 19\n"
     ]
    }
   ],
   "source": [
    "# Generate a random matrix (3x4 for example)\n",
    "matrix = [[random.randint(1, 10) for _ in range(4)] for _ in range(3)]\n",
    "\n",
    "# Display the matrix\n",
    "print(\"\\nMatrix:\")\n",
    "for row in matrix:\n",
    "    print(row)\n",
    "\n",
    "# Sum of each row\n",
    "for i, row in enumerate(matrix):\n",
    "    row_sum = sum(row)\n",
    "    print(f\"Sum of row {i+1} = {row_sum}\")\n"
   ]
  },
  {
   "cell_type": "code",
   "execution_count": 14,
   "id": "899350ab-24ca-4756-9d27-cea8935ede0d",
   "metadata": {},
   "outputs": [
    {
     "name": "stdout",
     "output_type": "stream",
     "text": [
      "\n",
      "Matrix 1:\n",
      "[3, 5, 5]\n",
      "[2, 5, 10]\n",
      "[10, 3, 10]\n",
      "\n",
      "Matrix 2:\n",
      "[6, 10, 5]\n",
      "[1, 6, 8]\n",
      "[8, 8, 10]\n",
      "\n",
      "Resultant Matrix after addition:\n",
      "[9, 15, 10]\n",
      "[3, 11, 18]\n",
      "[18, 11, 20]\n"
     ]
    }
   ],
   "source": [
    "# Generate two random matrices (3x3)\n",
    "matrix1 = [[random.randint(1, 10) for _ in range(3)] for _ in range(3)]\n",
    "matrix2 = [[random.randint(1, 10) for _ in range(3)] for _ in range(3)]\n",
    "\n",
    "# Display the matrices\n",
    "print(\"\\nMatrix 1:\")\n",
    "for row in matrix1:\n",
    "    print(row)\n",
    "\n",
    "print(\"\\nMatrix 2:\")\n",
    "for row in matrix2:\n",
    "    print(row)\n",
    "\n",
    "# Add the matrices\n",
    "result_matrix = [[matrix1[i][j] + matrix2[i][j] for j in range(3)] for i in range(3)]\n",
    "\n",
    "# Display the result matrix\n",
    "print(\"\\nResultant Matrix after addition:\")\n",
    "for row in result_matrix:\n",
    "    print(row)\n"
   ]
  },
  {
   "cell_type": "code",
   "execution_count": 15,
   "id": "03425198-1ea5-46b1-af62-067e1d3884bf",
   "metadata": {},
   "outputs": [
    {
     "name": "stdout",
     "output_type": "stream",
     "text": [
      "\n",
      "Matrix 1:\n",
      "[2, 10, 3]\n",
      "[1, 5, 1]\n",
      "[10, 6, 6]\n",
      "\n",
      "Matrix 2:\n",
      "[9, 6, 5]\n",
      "[1, 8, 2]\n",
      "[9, 7, 2]\n",
      "\n",
      "Resultant Matrix after multiplication:\n",
      "[55, 113, 36]\n",
      "[23, 53, 17]\n",
      "[150, 150, 74]\n"
     ]
    }
   ],
   "source": [
    "# Generate two random matrices (3x3)\n",
    "matrix1 = [[random.randint(1, 10) for _ in range(3)] for _ in range(3)]\n",
    "matrix2 = [[random.randint(1, 10) for _ in range(3)] for _ in range(3)]\n",
    "\n",
    "# Display the matrices\n",
    "print(\"\\nMatrix 1:\")\n",
    "for row in matrix1:\n",
    "    print(row)\n",
    "\n",
    "print(\"\\nMatrix 2:\")\n",
    "for row in matrix2:\n",
    "    print(row)\n",
    "\n",
    "# Multiply the matrices\n",
    "result_matrix = [[sum(matrix1[i][k] * matrix2[k][j] for k in range(3)) for j in range(3)] for i in range(3)]\n",
    "\n",
    "# Display the result matrix\n",
    "print(\"\\nResultant Matrix after multiplication:\")\n",
    "for row in result_matrix:\n",
    "    print(row)\n"
   ]
  },
  {
   "cell_type": "markdown",
   "id": "1dfa293f-bc97-40da-8a14-94bb94f84a3d",
   "metadata": {},
   "source": [
