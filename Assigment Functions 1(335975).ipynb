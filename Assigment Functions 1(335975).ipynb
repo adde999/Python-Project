{
 "cells": [
  {
   "cell_type": "markdown",
   "id": "d93f4e8a-84b3-4238-b7cf-aba5a65b7a48",
   "metadata": {},
   "source": [
    "1. Write a Python function to find the maximum of three numbers."
   ]
  },
  {
   "cell_type": "code",
   "execution_count": 1,
   "id": "00f077b8-88cc-4cc5-9a10-dcba19a79949",
   "metadata": {},
   "outputs": [
    {
     "name": "stdout",
     "output_type": "stream",
     "text": [
      "The maximum number is: 25\n"
     ]
    }
   ],
   "source": [
    "def find_maximum(a, b, c):\n",
    "    \"\"\"\n",
    "    Function to find the maximum of three numbers.\n",
    "\n",
    "    Parameters:\n",
    "    a (int or float): The first number\n",
    "    b (int or float): The second number\n",
    "    c (int or float): The third number\n",
    "\n",
    "    Returns:\n",
    "    int or float: The maximum of the three numbers\n",
    "    \"\"\"\n",
    "    return max(a, b, c)\n",
    "\n",
    "# Example usage:\n",
    "num1 = 10\n",
    "num2 = 25\n",
    "num3 = 15\n",
    "\n",
    "print(\"The maximum number is:\", find_maximum(num1, num2, num3))"
   ]
  },
  {
   "cell_type": "markdown",
   "id": "51d0223e-18a7-4752-b098-27e0c6a19c57",
   "metadata": {},
   "source": [
    "2. Write a Python function to sum all the numbers in a list.\n",
    "Sample List : (8, 2, 3, 0, 7)\n",
    "Expected Output : 20"
   ]
  },
  {
   "cell_type": "code",
   "execution_count": 2,
   "id": "65cdf51d-02a7-4add-8b54-40bb315100b4",
   "metadata": {},
   "outputs": [
    {
     "name": "stdout",
     "output_type": "stream",
     "text": [
      "The sum of the list is: 20\n"
     ]
    }
   ],
   "source": [
    "def sum_of_list(numbers):\n",
    "    \"\"\"\n",
    "    Function to sum all the numbers in a list.\n",
    "\n",
    "    Parameters:\n",
    "    numbers (list): A list of numbers (int or float)\n",
    "\n",
    "    Returns:\n",
    "    int or float: The sum of all the numbers in the list\n",
    "    \"\"\"\n",
    "    return sum(numbers)\n",
    "\n",
    "# Example usage:\n",
    "sample_list = [8, 2, 3, 0, 7]\n",
    "print(\"The sum of the list is:\", sum_of_list(sample_list))"
   ]
  },
  {
   "cell_type": "markdown",
   "id": "c66dce69-535a-432c-990f-8a5a446ac582",
   "metadata": {},
   "source": [
    "3. Write a Python function to multiply all the numbers in a list.\n",
    "Sample List : (8, 2, 3, -1, 7)\n",
    "Expected Output : -336"
   ]
  },
  {
   "cell_type": "code",
   "execution_count": 3,
   "id": "30042fad-545b-4dee-a0c6-306b020383a8",
   "metadata": {},
   "outputs": [
    {
     "name": "stdout",
     "output_type": "stream",
     "text": [
      "The product of the list is: -336\n"
     ]
    }
   ],
   "source": [
    "def multiply_list(numbers):\n",
    "    \"\"\"\n",
    "    Function to multiply all the numbers in a list.\n",
    "\n",
    "    Parameters:\n",
    "    numbers (list): A list of numbers (int or float)\n",
    "\n",
    "    Returns:\n",
    "    int or float: The product of all the numbers in the list\n",
    "    \"\"\"\n",
    "    result = 1\n",
    "    for num in numbers:\n",
    "        result *= num\n",
    "    return result\n",
    "\n",
    "# Example usage:\n",
    "sample_list = [8, 2, 3, -1, 7]\n",
    "print(\"The product of the list is:\", multiply_list(sample_list))\n"
   ]
  },
  {
   "cell_type": "markdown",
   "id": "7a29a724-26ce-4a91-8228-3119375478fc",
   "metadata": {},
   "source": [
    "4. Write a Python program to reverse a string.\n",
    "Sample String : \"1234abcd\"\n",
    "Expected Output : \"dcba4321\""
   ]
  },
  {
   "cell_type": "code",
   "execution_count": 4,
   "id": "d94bc790-5258-4dbb-8d1c-9cfab6d268c8",
   "metadata": {},
   "outputs": [
    {
     "name": "stdout",
     "output_type": "stream",
     "text": [
      "The reversed string is: dcba4321\n"
     ]
    }
   ],
   "source": [
    "def reverse_string(input_string):\n",
    "    \"\"\"\n",
    "    Function to reverse a string.\n",
    "\n",
    "    Parameters:\n",
    "    input_string (str): The string to reverse\n",
    "\n",
    "    Returns:\n",
    "    str: The reversed string\n",
    "    \"\"\"\n",
    "    return input_string[::-1]\n",
    "\n",
    "# Example usage:\n",
    "sample_string = \"1234abcd\"\n",
    "print(\"The reversed string is:\", reverse_string(sample_string))\n"
   ]
  },
  {
   "cell_type": "markdown",
   "id": "ead3857a-a0b5-4d4f-8d7f-df5e88fd18b0",
   "metadata": {},
   "source": [
    "5. Write a Python function to calculate the factorial of a number (a non-negative\n",
    "integer). The function accepts the number as an argument."
   ]
  },
  {
   "cell_type": "code",
   "execution_count": 5,
   "id": "5c112df0-6dd8-40c8-aec5-cf711bbcff72",
   "metadata": {},
   "outputs": [
    {
     "name": "stdout",
     "output_type": "stream",
     "text": [
      "The factorial of 5 is: 120\n"
     ]
    }
   ],
   "source": [
    "def factorial(n):\n",
    "    \"\"\"\n",
    "    Function to calculate the factorial of a non-negative integer.\n",
    "\n",
    "    Parameters:\n",
    "    n (int): A non-negative integer\n",
    "\n",
    "    Returns:\n",
    "    int: The factorial of the number\n",
    "    \"\"\"\n",
    "    if n < 0:\n",
    "        raise ValueError(\"Factorial is not defined for negative numbers.\")\n",
    "    if n == 0 or n == 1:\n",
    "        return 1\n",
    "    result = 1\n",
    "    for i in range(2, n + 1):\n",
    "        result *= i\n",
    "    return result\n",
    "\n",
    "# Example usage:\n",
    "number = 5\n",
    "print(f\"The factorial of {number} is:\", factorial(number))\n"
   ]
  },
  {
   "cell_type": "markdown",
   "id": "3f0ad1cf-4152-4736-9625-68bf61aaa48c",
   "metadata": {},
   "source": [
    "6. Write a Python function to check whether a number falls within a given range."
   ]
  },
  {
   "cell_type": "code",
   "execution_count": 6,
   "id": "a03b2fc1-302f-4fa6-9143-3416cc524f8c",
   "metadata": {},
   "outputs": [
    {
     "name": "stdout",
     "output_type": "stream",
     "text": [
      "The number 10 is within the range 5 to 15.\n"
     ]
    }
   ],
   "source": [
    "def is_in_range(number, start, end):\n",
    "    \"\"\"\n",
    "    Function to check whether a number falls within a given range.\n",
    "\n",
    "    Parameters:\n",
    "    number (int or float): The number to check\n",
    "    start (int or float): The start of the range (inclusive)\n",
    "    end (int or float): The end of the range (inclusive)\n",
    "\n",
    "    Returns:\n",
    "    bool: True if the number is within the range, False otherwise\n",
    "    \"\"\"\n",
    "    return start <= number <= end\n",
    "\n",
    "# Example usage:\n",
    "num = 10\n",
    "range_start = 5\n",
    "range_end = 15\n",
    "\n",
    "if is_in_range(num, range_start, range_end):\n",
    "    print(f\"The number {num} is within the range {range_start} to {range_end}.\")\n",
    "else:\n",
    "    print(f\"The number {num} is not within the range {range_start} to {range_end}.\")\n"
   ]
  },
  {
   "cell_type": "markdown",
   "id": "db38a32b-5098-410f-96b7-bb96f0b9879d",
   "metadata": {},
   "source": [
    "7. Write a Python function that accepts a string and counts the number of upper\n",
    "and lower case letters.\n",
    "Sample String : 'The quick Brow Fox'\n",
    "Expected Output :\n",
    "No. of Upper case characters : 3\n",
    "No. of Lower case Characters : 12"
   ]
  },
  {
   "cell_type": "code",
   "execution_count": 7,
   "id": "b6ff6497-9c40-41ee-96ec-dd5a1cd540db",
   "metadata": {},
   "outputs": [
    {
     "name": "stdout",
     "output_type": "stream",
     "text": [
      "No. of Upper case characters: 3\n",
      "No. of Lower case characters: 12\n"
     ]
    }
   ],
   "source": [
    "def count_case_letters(input_string):\n",
    "    \"\"\"\n",
    "    Function to count the number of uppercase and lowercase letters in a string.\n",
    "\n",
    "    Parameters:\n",
    "    input_string (str): The string to evaluate\n",
    "\n",
    "    Returns:\n",
    "    dict: A dictionary with the counts of uppercase and lowercase letters\n",
    "    \"\"\"\n",
    "    counts = {\"uppercase\": 0, \"lowercase\": 0}\n",
    "    \n",
    "    for char in input_string:\n",
    "        if char.isupper():\n",
    "            counts[\"uppercase\"] += 1\n",
    "        elif char.islower():\n",
    "            counts[\"lowercase\"] += 1\n",
    "    \n",
    "    return counts\n",
    "\n",
    "# Example usage:\n",
    "sample_string = 'The quick Brow Fox'\n",
    "result = count_case_letters(sample_string)\n",
    "print(f\"No. of Upper case characters: {result['uppercase']}\")\n",
    "print(f\"No. of Lower case characters: {result['lowercase']}\")\n"
   ]
  },
  {
   "cell_type": "markdown",
   "id": "72e9fb1f-5a09-4572-bdb5-993e7c06133f",
   "metadata": {},
   "source": [
    "8. Write a Python function that takes a list and returns a new list with distinct\n",
    "elements from the first list.\n",
    "Sample List : [1,2,3,3,3,3,4,5]\n",
    "Unique List : [1, 2, 3, 4, 5]"
   ]
  },
  {
   "cell_type": "code",
   "execution_count": 8,
   "id": "c7db0651-9a3c-4b2e-b7f4-ba8d735f8728",
   "metadata": {},
   "outputs": [
    {
     "name": "stdout",
     "output_type": "stream",
     "text": [
      "Unique List: [1, 2, 3, 4, 5]\n"
     ]
    }
   ],
   "source": [
    "def get_unique_elements(input_list):\n",
    "    \"\"\"\n",
    "    Function to return a new list with distinct elements from the given list.\n",
    "\n",
    "    Parameters:\n",
    "    input_list (list): The original list\n",
    "\n",
    "    Returns:\n",
    "    list: A list with unique elements\n",
    "    \"\"\"\n",
    "    return list(set(input_list))\n",
    "\n",
    "# Example usage:\n",
    "sample_list = [1, 2, 3, 3, 3, 3, 4, 5]\n",
    "unique_list = get_unique_elements(sample_list)\n",
    "print(\"Unique List:\", unique_list)\n"
   ]
  },
  {
   "cell_type": "markdown",
   "id": "2b4e6d06-13dd-4ac8-acb1-1f3b6387fa30",
   "metadata": {},
   "source": [
    "9. Write a Python function that takes a number as a parameter and checks\n",
    "whether the number is prime or not.\n",
    "Note : A prime number (or a prime) is a natural number greater than 1 and that\n",
    "has no positive divisors other than 1 and itself."
   ]
  },
  {
   "cell_type": "code",
   "execution_count": 9,
   "id": "5e8613c9-0743-49a6-94af-983916bab8a9",
   "metadata": {},
   "outputs": [
    {
     "name": "stdout",
     "output_type": "stream",
     "text": [
      "29 is a prime number.\n"
     ]
    }
   ],
   "source": [
    "def is_prime(number):\n",
    "    \"\"\"\n",
    "    Function to check whether a number is prime.\n",
    "\n",
    "    Parameters:\n",
    "    number (int): The number to check\n",
    "\n",
    "    Returns:\n",
    "    bool: True if the number is prime, False otherwise\n",
    "    \"\"\"\n",
    "    if number <= 1:\n",
    "        return False\n",
    "    for i in range(2, int(number**0.5) + 1):\n",
    "        if number % i == 0:\n",
    "            return False\n",
    "    return True\n",
    "\n",
    "# Example usage:\n",
    "num = 29\n",
    "if is_prime(num):\n",
    "    print(f\"{num} is a prime number.\")\n",
    "else:\n",
    "    print(f\"{num} is not a prime number.\")\n"
   ]
  },
  {
   "cell_type": "markdown",
   "id": "aca0376b-d0e9-4109-a417-128dfd458054",
   "metadata": {},
   "source": [
    "10. Write a Python program to print the even numbers from a given list.\n",
    "Sample List : [1, 2, 3, 4, 5, 6, 7, 8, 9]\n",
    "Expected Result : [2, 4, 6, 8]"
   ]
  },
  {
   "cell_type": "code",
   "execution_count": 10,
   "id": "5b2201d1-b43d-488a-8e52-f04156187231",
   "metadata": {},
   "outputs": [
    {
     "name": "stdout",
     "output_type": "stream",
     "text": [
      "Even numbers: [2, 4, 6, 8]\n"
     ]
    }
   ],
   "source": [
    "def get_even_numbers(input_list):\n",
    "    \"\"\"\n",
    "    Function to extract even numbers from a given list.\n",
    "\n",
    "    Parameters:\n",
    "    input_list (list): A list of integers\n",
    "\n",
    "    Returns:\n",
    "    list: A list of even numbers\n",
    "    \"\"\"\n",
    "    return [num for num in input_list if num % 2 == 0]\n",
    "\n",
    "# Example usage:\n",
    "sample_list = [1, 2, 3, 4, 5, 6, 7, 8, 9]\n",
    "even_numbers = get_even_numbers(sample_list)\n",
    "print(\"Even numbers:\", even_numbers)\n"
   ]
  },
  {
   "cell_type": "markdown",
   "id": "ea7a79db-c402-4918-963d-dca56b3a5bf5",
   "metadata": {},
   "source": [
    "11. Write a Python function to check whether a number is \"Perfect\" or not.\n",
    "According to Wikipedia : In number theory, a perfect number is a positive integer\n",
    "that is equal to the sum of its proper positive divisors, that is, the sum of its\n",
    "positive divisors excluding the number itself (also known as its aliquot sum).\n",
    "Equivalently, a perfect number is a number that is half the sum of all of its\n",
    "positive divisors (including itself).\n",
    "Example : The first perfect number is 6, because 1, 2, and 3 are its proper positive\n",
    "divisors, and 1 + 2 + 3 = 6. Equivalently, the number 6 is equal to half the sum of\n",
    "all its positive divisors: ( 1 + 2 + 3 + 6 ) / 2 = 6. The next perfect number is 28 = 1 +\n",
    "2 + 4 + 7 + 14. This is followed by the perfect numbers 496 and 8128."
   ]
  },
  {
   "cell_type": "code",
   "execution_count": 11,
   "id": "525a0638-6bc8-4a8f-8fe7-98f2277b89b7",
   "metadata": {},
   "outputs": [
    {
     "name": "stdout",
     "output_type": "stream",
     "text": [
      "28 is a perfect number.\n"
     ]
    }
   ],
   "source": [
    "def is_perfect(number):\n",
    "    \"\"\"\n",
    "    Function to check whether a number is a perfect number.\n",
    "\n",
    "    Parameters:\n",
    "    number (int): The number to check\n",
    "\n",
    "    Returns:\n",
    "    bool: True if the number is perfect, False otherwise\n",
    "    \"\"\"\n",
    "    if number <= 1:\n",
    "        return False\n",
    "    \n",
    "    divisors_sum = sum(i for i in range(1, number) if number % i == 0)\n",
    "    \n",
    "    return divisors_sum == number\n",
    "\n",
    "# Example usage:\n",
    "num = 28\n",
    "if is_perfect(num):\n",
    "    print(f\"{num} is a perfect number.\")\n",
    "else:\n",
    "    print(f\"{num} is not a perfect number.\")\n"
   ]
  },
  {
   "cell_type": "markdown",
   "id": "a6b7dfd4-2c6f-449a-824d-88017fc2dbbb",
   "metadata": {},
   "source": [
    "12. Write a Python function that checks whether a passed string is a palindrome\n",
    "or not.\n",
    "Note: A palindrome is a word, phrase, or sequence that reads the same backward\n",
    "as forward, e.g., madam or nurses run."
   ]
  },
  {
   "cell_type": "code",
   "execution_count": 12,
   "id": "11397d3e-00f3-46a1-9915-158efd8f3328",
   "metadata": {},
   "outputs": [
    {
     "name": "stdout",
     "output_type": "stream",
     "text": [
      "'nurses run' is a palindrome.\n"
     ]
    }
   ],
   "source": [
    "def is_palindrome(input_string):\n",
    "    \"\"\"\n",
    "    Function to check whether a string is a palindrome.\n",
    "\n",
    "    Parameters:\n",
    "    input_string (str): The string to check\n",
    "\n",
    "    Returns:\n",
    "    bool: True if the string is a palindrome, False otherwise\n",
    "    \"\"\"\n",
    "    # Remove spaces and convert to lowercase for case-insensitive comparison\n",
    "    cleaned_string = ''.join(input_string.split()).lower()\n",
    "    \n",
    "    # Check if the cleaned string is equal to its reverse\n",
    "    return cleaned_string == cleaned_string[::-1]\n",
    "\n",
    "# Example usage:\n",
    "sample_string = \"nurses run\"\n",
    "if is_palindrome(sample_string):\n",
    "    print(f\"'{sample_string}' is a palindrome.\")\n",
    "else:\n",
    "    print(f\"'{sample_string}' is not a palindrome.\")\n"
   ]
  },
  {
   "cell_type": "code",
   "execution_count": null,
   "id": "99298cd9-5eae-4656-b017-fd4d2146ca5b",
   "metadata": {},
   "outputs": [],
   "source": []
  }
 ],
 "metadata": {
  "kernelspec": {
   "display_name": "Python 3 (ipykernel)",
   "language": "python",
   "name": "python3"
  },
  "language_info": {
   "codemirror_mode": {
    "name": "ipython",
    "version": 3
   },
   "file_extension": ".py",
   "mimetype": "text/x-python",
   "name": "python",
   "nbconvert_exporter": "python",
   "pygments_lexer": "ipython3",
   "version": "3.12.7"
  }
 },
 "nbformat": 4,
 "nbformat_minor": 5
}
