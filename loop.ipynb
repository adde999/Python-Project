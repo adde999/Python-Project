{
 "cells": [
  {
   "cell_type": "markdown",
   "id": "3fb38663-927a-4d62-a15e-d70741f29e85",
   "metadata": {},
   "source": [
    "List Assignment\n",
    "1. Write a program that accepts a list from user and print the alternate element of list.\n",
    "2. Write a program that accepts a list from user. Your program should reverse the content of list and\n",
    "display it. Do not use reverse() method.\n",
    "3. Find and display the largest number of a list without using built-in function max(). Your program\n",
    "should ask the user to input values in list from keyboard.\n",
    "4. Write a program that rotates the element of a list so that the element at the first index moves to the\n",
    "second index, the element in the second index moves to the third index, etc., and the element in the last\n",
    "index moves to the first index.\n",
    "5. Write a program that input a string and ask user to delete a given word from a string.\n",
    "6. Write a program that reads a string from the user containing a date in the form mm/dd/yyyy. It\n",
    "should print the date in the form March 12, 2021.\n",
    "7. Write a program with a function that accepts a string from keyboard and create a new string after\n",
    "converting character of each word capitalized. For instance, if the sentence is \"stop and smell the roses.\"\n",
    "the output should be \"Stop And Smell The Roses\"\n",
    "8. Find the sum of each row of matrix of size m x n. For example for the following matrix output will be\n",
    "like this :\n",
    "2 11 7 12\n",
    "5 2 9 15\n",
    "8 3 10 42\n",
    "Sum of row 1 = 32\n",
    "Sum of row 2 = 31\n",
    "Sum of row 3 = 63\n",
    "9. Write a program to add two matrices of size n x m.\n",
    "10. Write a program to multiply two matrices"
   ]
  },
  {
   "cell_type": "code",
   "execution_count": 6,
   "id": "bf6f4d2e-ac48-4397-b5d0-73fcad67f3e2",
   "metadata": {},
   "outputs": [
    {
     "name": "stdout",
     "output_type": "stream",
     "text": [
      "Original List: [91, 4, 76, 91, 23, 37, 41, 46, 52, 21]\n",
      "Alternate elements of the list are:\n",
      "91 76 23 41 52 "
     ]
    }
   ],
   "source": [
    "import random\n",
    "\n",
    "# Generate a random list of 10 numbers\n",
    "user_list = [random.randint(1, 100) for _ in range(10)]\n",
    "\n",
    "# Print alternate elements\n",
    "print(\"Original List:\", user_list)\n",
    "print(\"Alternate elements of the list are:\")\n",
    "for i in range(0, len(user_list), 2):\n",
    "    print(user_list[i], end=\" \")\n"
   ]
  },
  {
   "cell_type": "code",
   "execution_count": 7,
   "id": "ef29f8c2-aa6e-4ca7-9dda-56a0df885b22",
   "metadata": {},
   "outputs": [
    {
     "name": "stdout",
     "output_type": "stream",
     "text": [
      "\n",
      "Reversed List: [21, 52, 46, 41, 37, 23, 91, 76, 4, 91]\n"
     ]
    }
   ],
   "source": [
    "# Reverse the list manually\n",
    "reversed_list = user_list[::-1]\n",
    "\n",
    "# Display the reversed list\n",
    "print(\"\\nReversed List:\", reversed_list)"
   ]
  },
  {
   "cell_type": "code",
   "execution_count": 8,
   "id": "0f235e91-c025-48a0-aa67-7b77edc7586f",
   "metadata": {},
   "outputs": [
    {
     "name": "stdout",
     "output_type": "stream",
     "text": [
      "\n",
      "Largest number in the list: 91\n"
     ]
    }
   ],
   "source": [
    "# Find the largest number manually\n",
    "largest_number = user_list[0]\n",
    "for num in user_list:\n",
    "    if num > largest_number:\n",
    "        largest_number = num\n",
    "\n",
    "print(\"\\nLargest number in the list:\", largest_number)\n"
   ]
  },
  {
   "cell_type": "code",
   "execution_count": 9,
   "id": "7f974dd2-4a3b-496e-9d37-c35a5e912feb",
   "metadata": {},
   "outputs": [
    {
     "name": "stdout",
     "output_type": "stream",
     "text": [
      "\n",
      "List after rotation: [4, 76, 91, 23, 37, 41, 46, 52, 21, 91]\n"
     ]
    }
   ],
   "source": [
    "# Rotate the list\n",
    "rotated_list = user_list[1:] + [user_list[0]]\n",
    "\n",
    "# Display the rotated list\n",
    "print(\"\\nList after rotation:\", rotated_list)\n"
   ]
  },
  {
   "cell_type": "code",
   "execution_count": 10,
   "id": "2472ba2e-bd5f-4f58-ac74-add65de3475b",
   "metadata": {},
   "outputs": [
    {
     "name": "stdout",
     "output_type": "stream",
     "text": [
      "\n",
      "Modified String: This is a  sentence with a  word.\n"
     ]
    }
   ],
   "source": [
    "# Accept input string and word to delete\n",
    "input_string = \"This is a random sentence with a random word.\"\n",
    "word_to_delete = \"random\"\n",
    "\n",
    "# Remove the word from the string\n",
    "modified_string = input_string.replace(word_to_delete, \"\")\n",
    "\n",
    "# Display the modified string\n",
    "print(\"\\nModified String:\", modified_string)\n"
   ]
  },
  {
   "cell_type": "code",
   "execution_count": 11,
   "id": "bcbe1a54-c7d1-4081-88ba-7577988c70ec",
   "metadata": {},
   "outputs": [
    {
     "name": "stdout",
     "output_type": "stream",
     "text": [
      "\n",
      "Formatted Date: March 12, 2021\n"
     ]
    }
   ],
   "source": [
    "# Accept random date\n",
    "date_input = \"03/12/2021\"  # Random date\n",
    "\n",
    "# Convert the input date to the required format\n",
    "month_names = [\"January\", \"February\", \"March\", \"April\", \"May\", \"June\", \n",
    "               \"July\", \"August\", \"September\", \"October\", \"November\", \"December\"]\n",
    "\n",
    "month, day, year = date_input.split(\"/\")\n",
    "formatted_date = f\"{month_names[int(month)-1]} {int(day)}, {year}\"\n",
    "\n",
    "print(\"\\nFormatted Date:\", formatted_date)\n"
   ]
  },
  {
   "cell_type": "code",
   "execution_count": 12,
   "id": "cf5289c1-4764-49e1-a3bb-addfbc34e8d4",
   "metadata": {},
   "outputs": [
    {
     "name": "stdout",
     "output_type": "stream",
     "text": [
      "\n",
      "Capitalized Sentence: Stop And Smell The Roses.\n"
     ]
    }
   ],
   "source": [
    "# Function to capitalize each word in a sentence\n",
    "def capitalize_words(sentence):\n",
    "    return ' '.join(word.capitalize() for word in sentence.split())\n",
    "\n",
    "# Input sentence\n",
    "input_string = \"stop and smell the roses.\"\n",
    "\n",
    "# Capitalize the words\n",
    "capitalized_sentence = capitalize_words(input_string)\n",
    "\n",
    "print(\"\\nCapitalized Sentence:\", capitalized_sentence)\n"
   ]
  },
  {
   "cell_type": "code",
   "execution_count": 13,
   "id": "8c169ab0-81a4-49a0-aadb-065bc8482a3b",
   "metadata": {},
   "outputs": [
    {
     "name": "stdout",
     "output_type": "stream",
     "text": [
      "\n",
      "Matrix:\n",
      "[1, 10, 2, 1]\n",
      "[9, 10, 5, 8]\n",
      "[2, 5, 5, 7]\n",
      "Sum of row 1 = 14\n",
      "Sum of row 2 = 32\n",
      "Sum of row 3 = 19\n"
     ]
    }
   ],
   "source": [
    "# Generate a random matrix (3x4 for example)\n",
    "matrix = [[random.randint(1, 10) for _ in range(4)] for _ in range(3)]\n",
    "\n",
    "# Display the matrix\n",
    "print(\"\\nMatrix:\")\n",
    "for row in matrix:\n",
    "    print(row)\n",
    "\n",
    "# Sum of each row\n",
    "for i, row in enumerate(matrix):\n",
    "    row_sum = sum(row)\n",
    "    print(f\"Sum of row {i+1} = {row_sum}\")\n"
   ]
  },
  {
   "cell_type": "code",
   "execution_count": 14,
   "id": "899350ab-24ca-4756-9d27-cea8935ede0d",
   "metadata": {},
   "outputs": [
    {
     "name": "stdout",
     "output_type": "stream",
     "text": [
      "\n",
      "Matrix 1:\n",
      "[3, 5, 5]\n",
      "[2, 5, 10]\n",
      "[10, 3, 10]\n",
      "\n",
      "Matrix 2:\n",
      "[6, 10, 5]\n",
      "[1, 6, 8]\n",
      "[8, 8, 10]\n",
      "\n",
      "Resultant Matrix after addition:\n",
      "[9, 15, 10]\n",
      "[3, 11, 18]\n",
      "[18, 11, 20]\n"
     ]
    }
   ],
   "source": [
    "# Generate two random matrices (3x3)\n",
    "matrix1 = [[random.randint(1, 10) for _ in range(3)] for _ in range(3)]\n",
    "matrix2 = [[random.randint(1, 10) for _ in range(3)] for _ in range(3)]\n",
    "\n",
    "# Display the matrices\n",
    "print(\"\\nMatrix 1:\")\n",
    "for row in matrix1:\n",
    "    print(row)\n",
    "\n",
    "print(\"\\nMatrix 2:\")\n",
    "for row in matrix2:\n",
    "    print(row)\n",
    "\n",
    "# Add the matrices\n",
    "result_matrix = [[matrix1[i][j] + matrix2[i][j] for j in range(3)] for i in range(3)]\n",
    "\n",
    "# Display the result matrix\n",
    "print(\"\\nResultant Matrix after addition:\")\n",
    "for row in result_matrix:\n",
    "    print(row)\n"
   ]
  },
  {
   "cell_type": "code",
   "execution_count": 15,
   "id": "03425198-1ea5-46b1-af62-067e1d3884bf",
   "metadata": {},
   "outputs": [
    {
     "name": "stdout",
     "output_type": "stream",
     "text": [
      "\n",
      "Matrix 1:\n",
      "[2, 10, 3]\n",
      "[1, 5, 1]\n",
      "[10, 6, 6]\n",
      "\n",
      "Matrix 2:\n",
      "[9, 6, 5]\n",
      "[1, 8, 2]\n",
      "[9, 7, 2]\n",
      "\n",
      "Resultant Matrix after multiplication:\n",
      "[55, 113, 36]\n",
      "[23, 53, 17]\n",
      "[150, 150, 74]\n"
     ]
    }
   ],
   "source": [
    "# Generate two random matrices (3x3)\n",
    "matrix1 = [[random.randint(1, 10) for _ in range(3)] for _ in range(3)]\n",
    "matrix2 = [[random.randint(1, 10) for _ in range(3)] for _ in range(3)]\n",
    "\n",
    "# Display the matrices\n",
    "print(\"\\nMatrix 1:\")\n",
    "for row in matrix1:\n",
    "    print(row)\n",
    "\n",
    "print(\"\\nMatrix 2:\")\n",
    "for row in matrix2:\n",
    "    print(row)\n",
    "\n",
    "# Multiply the matrices\n",
    "result_matrix = [[sum(matrix1[i][k] * matrix2[k][j] for k in range(3)) for j in range(3)] for i in range(3)]\n",
    "\n",
    "# Display the result matrix\n",
    "print(\"\\nResultant Matrix after multiplication:\")\n",
    "for row in result_matrix:\n",
    "    print(row)\n"
   ]
  },
  {
   "cell_type": "markdown",
   "id": "1dfa293f-bc97-40da-8a14-94bb94f84a3d",
   "metadata": {},
   "source": [
    "Strings Assignments\n",
    "\n",
    "1. Write a program that accepts a string from user. Your program should count and display number of\n",
    "vowels in that string.\n",
    "2. Write a program that reads a string from keyboard and display:\n",
    "* The number of uppercase letters in the string\n",
    "* The number of lowercase letters in the string\n",
    "* The number of digits in the string\n",
    "* The number of whitespace characters in the string\n",
    "3. Write a Python program that accepts a string from user. Your program should create and display a\n",
    "new string where the first and last characters have been exchanged.\n",
    "For example if the user enters the string 'HELLO' then new string would be 'OELLH'\n",
    "4. Write a Python program that accepts a string from user. Your program should create a new string in\n",
    "reverse of first string and display it.\n",
    "For example if the user enters the string 'EXAM' then new string would be 'MAXE'\n",
    "5. Write a Python program that accepts a string from user. Your program should create a new string by\n",
    "shifting one position to left.\n",
    "For example if the user enters the string 'examination 2021' then new string would be 'xamination\n",
    "2021e'\n",
    "6. Write a program that asks the user to input his name and print its initials. Assuming that the user\n",
    "always types first name, middle name and last name and does not include any unnecessary spaces.\n",
    "For example, if the user enters Ajay Kumar Garg the program should display A. K. G.\n",
    "Note:Don't use split() method\n",
    "7. A palindrome is a string that reads the same backward as forward. For example, the words dad,\n",
    "madam and radar are all palindromes. Write a programs that determines whether the string is a\n",
    "palindrome.\n",
    "Note: do not use reverse() method\n",
    "8. Write a program that display following output:\n",
    "SHIFT\n",
    "HIFTS\n",
    "IFTSH\n",
    "FTSHI\n",
    "TSHIF\n",
    "SHIFT\n",
    "9. Write a program in python that accepts a string to setup a passwords. Your entered password must\n",
    "meet the following requirements:\n",
    "\n",
    "The password must be at least eight characters long.\n",
    "It must contain at least one uppercase letter.\n",
    "It must contain at least one lowercase letter.\n",
    "It must contain at least one numeric digit.\n",
    "Your program should should perform this validation."
   ]
  },
  {
   "cell_type": "code",
   "execution_count": 16,
   "id": "6b3cf02e-52d7-4fb9-b8f5-87b03f502576",
   "metadata": {},
   "outputs": [
    {
     "name": "stdout",
     "output_type": "stream",
     "text": [
      "String: hello world\n",
      "Number of vowels: 3\n"
     ]
    }
   ],
   "source": [
    "import random\n",
    "\n",
    "# Random string generation\n",
    "input_string = \"hello world\"\n",
    "vowels = \"aeiou\"\n",
    "count = sum(1 for char in input_string if char in vowels)\n",
    "\n",
    "print(f\"String: {input_string}\")\n",
    "print(f\"Number of vowels: {count}\")\n"
   ]
  },
  {
   "cell_type": "code",
   "execution_count": 17,
   "id": "faefa596-4b32-481f-bc06-07b9c26de7ad",
   "metadata": {},
   "outputs": [
    {
     "name": "stdout",
     "output_type": "stream",
     "text": [
      "String: Hello World 1234\n",
      "Uppercase letters: 2\n",
      "Lowercase letters: 8\n",
      "Digits: 4\n",
      "Whitespaces: 2\n"
     ]
    }
   ],
   "source": [
    "input_string = \"Hello World 1234\"\n",
    "upper_count = sum(1 for char in input_string if char.isupper())\n",
    "lower_count = sum(1 for char in input_string if char.islower())\n",
    "digit_count = sum(1 for char in input_string if char.isdigit())\n",
    "space_count = sum(1 for char in input_string if char.isspace())\n",
    "\n",
    "print(f\"String: {input_string}\")\n",
    "print(f\"Uppercase letters: {upper_count}\")\n",
    "print(f\"Lowercase letters: {lower_count}\")\n",
    "print(f\"Digits: {digit_count}\")\n",
    "print(f\"Whitespaces: {space_count}\")\n"
   ]
  },
  {
   "cell_type": "code",
   "execution_count": 18,
   "id": "11e204ed-66cd-47a5-9499-cc3b0e2b968f",
   "metadata": {},
   "outputs": [
    {
     "name": "stdout",
     "output_type": "stream",
     "text": [
      "Original String: HELLO\n",
      "Modified String: OELLH\n"
     ]
    }
   ],
   "source": [
    "input_string = \"HELLO\"\n",
    "if len(input_string) > 1:\n",
    "    new_string = input_string[-1] + input_string[1:-1] + input_string[0]\n",
    "else:\n",
    "    new_string = input_string\n",
    "\n",
    "print(f\"Original String: {input_string}\")\n",
    "print(f\"Modified String: {new_string}\")\n"
   ]
  },
  {
   "cell_type": "code",
   "execution_count": 19,
   "id": "bc2c5411-7ed5-4c75-9272-604543d37b3d",
   "metadata": {},
   "outputs": [
    {
     "name": "stdout",
     "output_type": "stream",
     "text": [
      "Original String: EXAM\n",
      "Reversed String: MAXE\n"
     ]
    }
   ],
   "source": [
    "input_string = \"EXAM\"\n",
    "reversed_string = input_string[::-1]\n",
    "\n",
    "print(f\"Original String: {input_string}\")\n",
    "print(f\"Reversed String: {reversed_string}\")\n"
   ]
  },
  {
   "cell_type": "code",
   "execution_count": 20,
   "id": "b55b89fb-4466-4fdc-8c2d-67748b69aab8",
   "metadata": {},
   "outputs": [
    {
     "name": "stdout",
     "output_type": "stream",
     "text": [
      "Original String: examination 2021\n",
      "String after shifting left: xamination 2021e\n"
     ]
    }
   ],
   "source": [
    "input_string = \"examination 2021\"\n",
    "shifted_string = input_string[1:] + input_string[0]\n",
    "\n",
    "print(f\"Original String: {input_string}\")\n",
    "print(f\"String after shifting left: {shifted_string}\")\n"
   ]
  },
  {
   "cell_type": "code",
   "execution_count": 21,
   "id": "b4bf784c-d127-44d5-a66a-51d8050b9759",
   "metadata": {},
   "outputs": [
    {
     "name": "stdout",
     "output_type": "stream",
     "text": [
      "Initials: A.K.G.\n"
     ]
    }
   ],
   "source": [
    "input_name = \"Ajay Kumar Garg\"\n",
    "initials = \"\".join([word[0] + \".\" for word in input_name.split()])\n",
    "print(f\"Initials: {initials}\")\n"
   ]
  },
  {
   "cell_type": "code",
   "execution_count": 22,
   "id": "77f344ee-d9e1-46e8-b474-ca3f143b160e",
   "metadata": {},
   "outputs": [
    {
     "name": "stdout",
     "output_type": "stream",
     "text": [
      "String: madam\n",
      "Is palindrome: True\n"
     ]
    }
   ],
   "source": [
    "input_string = \"madam\"\n",
    "is_palindrome = input_string == input_string[::-1]\n",
    "\n",
    "print(f\"String: {input_string}\")\n",
    "print(f\"Is palindrome: {is_palindrome}\")\n"
   ]
  },
  {
   "cell_type": "code",
   "execution_count": 23,
   "id": "0eba37a7-eac5-4d0d-9af2-5c4b8d4d7c7d",
   "metadata": {},
   "outputs": [
    {
     "name": "stdout",
     "output_type": "stream",
     "text": [
      "SHIFT\n",
      "HIFTS\n",
      "IFTSH\n",
      "FTSHI\n",
      "TSHIF\n"
     ]
    }
   ],
   "source": [
    "input_string = \"SHIFT\"\n",
    "for i in range(len(input_string)):\n",
    "    print(input_string[i:] + input_string[:i])\n"
   ]
  },
  {
   "cell_type": "code",
   "execution_count": 24,
   "id": "3b333e72-749a-4d9a-8f18-562532ee2862",
   "metadata": {},
   "outputs": [
    {
     "name": "stdout",
     "output_type": "stream",
     "text": [
      "Password 'Password123' is valid.\n"
     ]
    }
   ],
   "source": [
    "import re\n",
    "\n",
    "password = \"Password123\"\n",
    "# Password criteria\n",
    "is_valid = (\n",
    "    len(password) >= 8 and\n",
    "    any(char.isupper() for char in password) and\n",
    "    any(char.islower() for char in password) and\n",
    "    any(char.isdigit() for char in password)\n",
    ")\n",
    "\n",
    "if is_valid:\n",
    "    print(f\"Password '{password}' is valid.\")\n",
    "else:\n",
    "    print(f\"Password '{password}' is invalid.\")\n"
   ]
  },
  {
   "cell_type": "markdown",
   "id": "b0c686aa-fbc9-46f9-a20e-f58ff1a3ee7f",
   "metadata": {},
   "source": [
    "1. Write a Python program to print the numbers from 1 to 10 using a for loop.\n",
    "2. Write a Python program to print the numbers from 20 to 1 using a while loop.\n",
    "3. Write a program to print even numbers from 1 to 10.\n",
    "4. Write a program that prompts the user to enter a number n and prints all the\n",
    "numbers from 1 to n.\n",
    "5. Write a program that prompts the user to enter a number n, and then prints all the\n",
    "odd numbers between 1 and n.\n",
    "6. Write a program that prints 'Happy Birthday!' five times on screen.\n",
    "7. Write a program that takes a number n as input from the user and generates the first\n",
    "n terms of the series formed by squaring the natural numbers.\n",
    "Sample output\n",
    "Enter a number: 6\n",
    "The first 6 terms of the series are:\n",
    "1 4 9 16 25 36\n",
    "8. Write a program that prompts the user to input a number and prints its multiplication\n",
    "table.\n",
    "9. Write a Python program to print the first 8 terms of an arithmetic progression starting\n",
    "with 3 and having a common difference of 4.\n",
    "The program should output the following sequence:\n",
    "3 7 11 15 19 23 27 31\n",
    "10. Write a Python program to print the first 6 terms of a geometric sequence starting\n",
    "with 2 and having a common ratio of 3.\n",
    "The program should output the following sequence:\n",
    "2 6 18 54 162 486\n",
    "11. Write a program that asks the user for a positive integer value. The program should\n",
    "calculate the sum of all the integers from 1 up to the number entered. For example, if\n",
    "the user enters 20, the loop will find the sum of 1, 2, 3, 4, ... 20.\n",
    "12. write a program that takes a positive integer N as input and calculates the sum of\n",
    "the reciprocals of all numbers from 1 up to N. The program should display the final sum.\n",
    "\n",
    "Output of the program should be like:\n",
    "Enter a positive integer: 5\n",
    "The sum of reciprocals from 1 to 5 is: 2.28\n",
    "13. Write a program that prompts the user to enter a number and repeats this process 5\n",
    "times. The program should accumulate the numbers entered and then display the final\n",
    "running total.\n",
    "Sample Output:\n",
    "Enter a number: 10\n",
    "Enter a number: 15\n",
    "Enter a number: 35\n",
    "Enter a number: 40\n",
    "Enter a number: 50\n",
    "The final running total is: 150\n",
    "14. Write a program that prompts the user to enter a positive integer and calculates its\n",
    "factorial. The factorial of a positive integer 'n' is denoted as 'n!' and is calculated by\n",
    "multiplying all the integers from 1 to 'n' together. For example, the factorial of 5\n",
    "(denoted as 5!) is calculated as 1 x 2 x 3 x 4 x 5.\n",
    "The program should display the factorial value if the input is a positive number, or\n",
    "display a message stating that the factorial does not exist for negative numbers.\n",
    "Additionally, for an input of zero, the program should output that the factorial of 0 is 1.\n",
    "15. Write a Python program that prompts the user to enter a base number and an\n",
    "exponent, and then calculates the power of the base to the exponent. The program\n",
    "should not use the exponentiation operator (**) or the math.pow() function. The\n",
    "program should handle both positive and negative exponents."
   ]
  },
  {
   "cell_type": "code",
   "execution_count": 29,
   "id": "977ea63c-f596-4682-a75d-54f0ca426bf8",
   "metadata": {},
   "outputs": [
    {
     "name": "stdout",
     "output_type": "stream",
     "text": [
      "1 2 3 4 5 6 7 8 9 10 "
     ]
    }
   ],
   "source": [
    "for i in range(1, 11):\n",
    "    print(i, end=\" \")\n"
   ]
  },
  {
   "cell_type": "code",
   "execution_count": 30,
   "id": "10cbc370-db73-40ca-a969-c24524bd14c1",
   "metadata": {},
   "outputs": [
    {
     "name": "stdout",
     "output_type": "stream",
     "text": [
      "20 19 18 17 16 15 14 13 12 11 10 9 8 7 6 5 4 3 2 1 "
     ]
    }
   ],
   "source": [
    "i = 20\n",
    "while i >= 1:\n",
    "    print(i, end=\" \")\n",
    "    i -= 1\n"
   ]
  },
  {
   "cell_type": "code",
   "execution_count": 31,
   "id": "302fd654-a7b8-4e0a-aa90-091fb04daa07",
   "metadata": {},
   "outputs": [
    {
     "name": "stdout",
     "output_type": "stream",
     "text": [
      "2 4 6 8 10 "
     ]
    }
   ],
   "source": [
    "for i in range(1, 11):\n",
    "    if i % 2 == 0:\n",
    "        print(i, end=\" \")\n"
   ]
  },
  {
   "cell_type": "code",
   "execution_count": 32,
   "id": "d3d64120-b9d3-49d1-b26f-690d4fe43189",
   "metadata": {},
   "outputs": [
    {
     "name": "stdout",
     "output_type": "stream",
     "text": [
      "1 2 3 4 5 6 "
     ]
    }
   ],
   "source": [
    "n = 6\n",
    "for i in range(1, n+1):\n",
    "    print(i, end=\" \")\n"
   ]
  },
  {
   "cell_type": "code",
   "execution_count": 33,
   "id": "819c4bf2-90cd-496a-81a3-e5b5aade8880",
   "metadata": {},
   "outputs": [
    {
     "name": "stdout",
     "output_type": "stream",
     "text": [
      "1 3 5 "
     ]
    }
   ],
   "source": [
    "n = 6\n",
    "for i in range(1, n+1):\n",
    "    if i % 2 != 0:\n",
    "        print(i, end=\" \")\n"
   ]
  },
  {
   "cell_type": "code",
   "execution_count": 34,
   "id": "9b106f3e-4087-489f-9b00-6d87bc341bd3",
   "metadata": {},
   "outputs": [
    {
     "name": "stdout",
     "output_type": "stream",
     "text": [
      "Happy Birthday!\n",
      "Happy Birthday!\n",
      "Happy Birthday!\n",
      "Happy Birthday!\n",
      "Happy Birthday!\n"
     ]
    }
   ],
   "source": [
    "for _ in range(5):\n",
    "    print(\"Happy Birthday!\")\n"
   ]
  },
  {
   "cell_type": "code",
   "execution_count": 35,
   "id": "4f74d3cb-82b9-4996-8af8-0a1c393a6797",
   "metadata": {},
   "outputs": [
    {
     "name": "stdout",
     "output_type": "stream",
     "text": [
      "The first 6 terms of the series are:\n",
      "1 4 9 16 25 36 "
     ]
    }
   ],
   "source": [
    "n = 6\n",
    "print(\"The first\", n, \"terms of the series are:\")\n",
    "for i in range(1, n+1):\n",
    "    print(i**2, end=\" \")\n"
   ]
  },
  {
   "cell_type": "code",
   "execution_count": 36,
   "id": "9271e529-797f-4989-b6e2-a7146090069a",
   "metadata": {},
   "outputs": [
    {
     "name": "stdout",
     "output_type": "stream",
     "text": [
      "6 x 1 = 6\n",
      "6 x 2 = 12\n",
      "6 x 3 = 18\n",
      "6 x 4 = 24\n",
      "6 x 5 = 30\n",
      "6 x 6 = 36\n",
      "6 x 7 = 42\n",
      "6 x 8 = 48\n",
      "6 x 9 = 54\n",
      "6 x 10 = 60\n"
     ]
    }
   ],
   "source": [
    "n = 6\n",
    "for i in range(1, 11):\n",
    "    print(f\"{n} x {i} = {n*i}\")\n"
   ]
  },
  {
   "cell_type": "code",
   "execution_count": 37,
   "id": "bfcc3417-cd92-4571-8ea8-6972ce46f1ce",
   "metadata": {},
   "outputs": [
    {
     "name": "stdout",
     "output_type": "stream",
     "text": [
      "3 7 11 15 19 23 27 31 "
     ]
    }
   ],
   "source": [
    "a = 3  # First term\n",
    "d = 4  # Common difference\n",
    "n = 8  # Number of terms\n",
    "for i in range(n):\n",
    "    print(a + i * d, end=\" \")\n"
   ]
  },
  {
   "cell_type": "code",
   "execution_count": 38,
   "id": "1efd1f1c-0933-41f4-9aa9-23b332e6989f",
   "metadata": {},
   "outputs": [
    {
     "name": "stdout",
     "output_type": "stream",
     "text": [
      "2 6 18 54 162 486 "
     ]
    }
   ],
   "source": [
    "a = 2  # First term\n",
    "r = 3  # Common ratio\n",
    "n = 6  # Number of terms\n",
    "for i in range(n):\n",
    "    print(a * r**i, end=\" \")\n"
   ]
  },
  {
   "cell_type": "code",
   "execution_count": 39,
   "id": "e5ebd053-7cfe-41f2-ac7f-818fc4d35f87",
   "metadata": {},
   "outputs": [
    {
     "name": "stdout",
     "output_type": "stream",
     "text": [
      "435\n"
     ]
    }
   ],
   "source": [
    "n = 29\n",
    "total = sum(range(1, n+1))\n",
    "print(total)\n"
   ]
  },
  {
   "cell_type": "code",
   "execution_count": 40,
   "id": "a708a235-2a00-4dd2-ba83-fccdf65a3ef5",
   "metadata": {},
   "outputs": [
    {
     "name": "stdout",
     "output_type": "stream",
     "text": [
      "The sum of reciprocals from 1 to 8 is: 2.72\n"
     ]
    }
   ],
   "source": [
    "n = 8\n",
    "reciprocal_sum = sum(1/i for i in range(1, n+1))\n",
    "print(f\"The sum of reciprocals from 1 to {n} is: {reciprocal_sum:.2f}\")\n"
   ]
  },
  {
   "cell_type": "code",
   "execution_count": 41,
   "id": "93ac9888-2654-4659-98b8-9cedb83ddf1a",
   "metadata": {},
   "outputs": [
    {
     "name": "stdin",
     "output_type": "stream",
     "text": [
      "Enter a number:  10\n",
      "Enter a number:  15\n",
      "Enter a number:  35\n",
      "Enter a number:  40\n",
      "Enter a number:  50\n"
     ]
    },
    {
     "name": "stdout",
     "output_type": "stream",
     "text": [
      "The final running total is: 150\n"
     ]
    }
   ],
   "source": [
    "total = 0\n",
    "for _ in range(5):\n",
    "    num = int(input(\"Enter a number: \"))\n",
    "    total += num\n",
    "print(f\"The final running total is: {total}\")\n"
   ]
  },
  {
   "cell_type": "code",
   "execution_count": 42,
   "id": "ce35e38e-9652-44a0-b41a-bf2d610c9114",
   "metadata": {},
   "outputs": [
    {
     "name": "stdout",
     "output_type": "stream",
     "text": [
      "The factorial of 8 is: 40320\n"
     ]
    }
   ],
   "source": [
    "n = 8\n",
    "if n < 0:\n",
    "    print(\"Factorial does not exist for negative numbers.\")\n",
    "elif n == 0:\n",
    "    print(\"The factorial of 0 is 1.\")\n",
    "else:\n",
    "    factorial = 1\n",
    "    for i in range(1, n+1):\n",
    "        factorial *= i\n",
    "    print(f\"The factorial of {n} is: {factorial}\")\n"
   ]
  },
  {
   "cell_type": "code",
   "execution_count": 43,
   "id": "e3bec6fa-f659-4116-bd86-51218aafbdea",
   "metadata": {},
   "outputs": [
    {
     "name": "stdout",
     "output_type": "stream",
     "text": [
      "10 raised to the power of -5 is: 1e-05\n"
     ]
    }
   ],
   "source": [
    "base = 10\n",
    "exponent = -5\n",
    "result = 1\n",
    "if exponent < 0:\n",
    "    for _ in range(abs(exponent)):\n",
    "        result *= base\n",
    "    result = 1 / result\n",
    "else:\n",
    "    for _ in range(exponent):\n",
    "        result *= base\n",
    "print(f\"{base} raised to the power of {exponent} is: {result}\")\n"
   ]
  },
  {
   "cell_type": "markdown",
   "id": "7ebd1e7c-1e9e-431c-b4da-09393ec7a80f",
   "metadata": {},
   "source": [
    "1. Write a program that prompts the user to input a number and display if the number\n",
    "is even or odd.\n",
    "2. Write a Python program that takes an age as input and determines whether a person\n",
    "is eligible to vote. If the age is 18 or above, print \"You are eligible to vote.\" Otherwise,\n",
    "print \"You are not eligible to vote yet.\".\n",
    "3. Write a program that prompts the user to input two integers and outputs the largest.\n",
    "4. Write a program that prompts the user to enter a number and determines whether it\n",
    "is positive, negative, or zero. The program should print \"Positive\" if the number is\n",
    "greater than 0, \"Negative\" if the number is less than 0, and \"Zero\" if the number is 0.\n",
    "5. Write a program that prompts the user to enter their age and prints the\n",
    "corresponding age group. The program should use the following age groups:\n",
    "0-12: Child\n",
    "13-19: Teenager\n",
    "20-59: Adult\n",
    "60 and above: Senior Citizen\n",
    "6. Write a program that prompts the user to input a number from 1 to 7. The program\n",
    "should display the corresponding day for the given number. For example, if the user\n",
    "types 1, the output should be Sunday. If the user types 7, the output should be\n",
    "Saturday. If the number is not between 1 to 7 user should get error message as shown\n",
    "in sample output.\n",
    "7. Write a program that prompts the user to enter their weight (in kilograms) and height\n",
    "(in meters). The program should calculate the Body Mass Index (BMI) using the formula:\n",
    "BMI = weight / (height * height). The program should then classify the BMI into one of\n",
    "the following categories:\n",
    "less than 18.5 - Underweight\n",
    "BMI between 18.5 and 24.9 - Normal weight\n",
    "BMI between 25 and 29.9 - Overweight\n",
    "BMI 30 or greater - Obesity\n",
    "8. The marks obtained by a student in 3 different subjects are input by the user. Your\n",
    "program should calculate the average of subjects and display the grade. The student\n",
    "gets a grade as per the following rules:\n",
    "Average Grade\n",
    "90-100 A\n",
    "80-89 B\n",
    "70-79 C\n",
    "\n",
    "60-69 D\n",
    "0-59 F\n",
    "9. The roots of the quadratic equation ax2\n",
    "\n",
    "+ bx + c = 0, a ≠ 0 are given by the following\n",
    "\n",
    "formula:\n",
    "\n",
    "In this formula, the term b2\n",
    "\n",
    "- 4ac is called the discriminant. If b2\n",
    "\n",
    "- 4ac = 0, then the\n",
    "\n",
    "equation has two equal roots.\n",
    "If b2\n",
    "- 4ac > 0, the equation has two real roots. If b2\n",
    "\n",
    "- 4ac < 0, the equation has two\n",
    "\n",
    "complex roots.\n",
    "Write a program that prompts the user to input the value of a (the coefficient of x2\n",
    "), b\n",
    "(the coefficient of x), and c (the constant term) and outputs the roots of the quadratic\n",
    "equation.\n",
    "10. Write a program that prompts the user to enter three numbers and sorts them in\n",
    "ascending order. The program should print the sorted numbers.\n",
    "11. Write a program that prompts the user to input three integers and outputs the\n",
    "largest.\n",
    "12. Write a program that prompts the user to input a character and determine the\n",
    "character is vowel or consonant.\n",
    "13. Write a program that prompts the user to input a year and determine whether the\n",
    "year is a leap year or not.\n",
    "Leap Years are any year that can be evenly divided by 4. A year that is evenly divisible by\n",
    "100 is a leap year only if it is also evenly divisible by 400. Example:\n",
    "1992 Leap Year\n",
    "2000 Leap Year\n",
    "1900 NOT a Leap Year\n",
    "1995 NOT a Leap Year\n",
    "14. Write a program that prompts the user to input number of calls and calculate the\n",
    "monthly telephone bills as per the following rule:\n",
    "Minimum Rs. 200 for up to 100 calls.\n",
    "Plus Rs. 0.60 per call for next 50 calls.\n",
    "Plus Rs. 0.50 per call for next 50 calls.\n",
    "Plus Rs. 0.40 per call for any call beyond 200 calls."
   ]
  },
  {
   "cell_type": "code",
   "execution_count": 44,
   "id": "26ecd5b6-4bd2-46b9-985b-2ccced15a275",
   "metadata": {},
   "outputs": [
    {
     "name": "stdout",
     "output_type": "stream",
     "text": [
      "Odd\n"
     ]
    }
   ],
   "source": [
    "number = 7\n",
    "if number % 2 == 0:\n",
    "    print(\"Even\")\n",
    "else:\n",
    "    print(\"Odd\")\n"
   ]
  },
  {
   "cell_type": "code",
   "execution_count": 45,
   "id": "b9c8af7a-8592-4b8a-8ae6-86ddb41e4efc",
   "metadata": {},
   "outputs": [
    {
     "name": "stdout",
     "output_type": "stream",
     "text": [
      "You are not eligible to vote yet.\n"
     ]
    }
   ],
   "source": [
    "age = 16\n",
    "if age >= 18:\n",
    "    print(\"You are eligible to vote.\")\n",
    "else:\n",
    "    print(\"You are not eligible to vote yet.\")\n"
   ]
  },
  {
   "cell_type": "code",
   "execution_count": 46,
   "id": "c456c01f-0985-4133-a65e-de35b6719804",
   "metadata": {},
   "outputs": [
    {
     "name": "stdout",
     "output_type": "stream",
     "text": [
      "The largest number is 45\n"
     ]
    }
   ],
   "source": [
    "num1 = 23\n",
    "num2 = 45\n",
    "if num1 > num2:\n",
    "    print(f\"The largest number is {num1}\")\n",
    "else:\n",
    "    print(f\"The largest number is {num2}\")\n"
   ]
  },
  {
   "cell_type": "code",
   "execution_count": 47,
   "id": "f3e5f700-125a-4aba-a943-9f816a8ddf2e",
   "metadata": {},
   "outputs": [
    {
     "name": "stdout",
     "output_type": "stream",
     "text": [
      "Negative\n"
     ]
    }
   ],
   "source": [
    "num = -4\n",
    "if num > 0:\n",
    "    print(\"Positive\")\n",
    "elif num < 0:\n",
    "    print(\"Negative\")\n",
    "else:\n",
    "    print(\"Zero\")\n"
   ]
  },
  {
   "cell_type": "code",
   "execution_count": 48,
   "id": "5b38f424-39b6-4b38-b3ca-ae3c11e58f6d",
   "metadata": {},
   "outputs": [
    {
     "name": "stdout",
     "output_type": "stream",
     "text": [
      "Adult\n"
     ]
    }
   ],
   "source": [
    "age = 25\n",
    "if age <= 12:\n",
    "    print(\"Child\")\n",
    "elif age <= 19:\n",
    "    print(\"Teenager\")\n",
    "elif age <= 59:\n",
    "    print(\"Adult\")\n",
    "else:\n",
    "    print(\"Senior Citizen\")\n"
   ]
  },
  {
   "cell_type": "code",
   "execution_count": 49,
   "id": "99300503-ca38-4638-af4e-5c0b82b89d23",
   "metadata": {},
   "outputs": [
    {
     "name": "stdout",
     "output_type": "stream",
     "text": [
      "Tuesday\n"
     ]
    }
   ],
   "source": [
    "day_num = 3\n",
    "if day_num == 1:\n",
    "    print(\"Sunday\")\n",
    "elif day_num == 2:\n",
    "    print(\"Monday\")\n",
    "elif day_num == 3:\n",
    "    print(\"Tuesday\")\n",
    "elif day_num == 4:\n",
    "    print(\"Wednesday\")\n",
    "elif day_num == 5:\n",
    "    print(\"Thursday\")\n",
    "elif day_num == 6:\n",
    "    print(\"Friday\")\n",
    "elif day_num == 7:\n",
    "    print(\"Saturday\")\n",
    "else:\n",
    "    print(\"Error: Invalid day number.\")\n"
   ]
  },
  {
   "cell_type": "code",
   "execution_count": 50,
   "id": "b8849030-0372-49d1-94cb-d83e2af225af",
   "metadata": {},
   "outputs": [
    {
     "name": "stdout",
     "output_type": "stream",
     "text": [
      "BMI: 22.86, Category: Normal weight\n"
     ]
    }
   ],
   "source": [
    "weight = 70  # kg\n",
    "height = 1.75  # m\n",
    "bmi = weight / (height ** 2)\n",
    "if bmi < 18.5:\n",
    "    category = \"Underweight\"\n",
    "elif 18.5 <= bmi < 24.9:\n",
    "    category = \"Normal weight\"\n",
    "elif 25 <= bmi < 29.9:\n",
    "    category = \"Overweight\"\n",
    "else:\n",
    "    category = \"Obesity\"\n",
    "print(f\"BMI: {bmi:.2f}, Category: {category}\")\n"
   ]
  },
  {
   "cell_type": "code",
   "execution_count": 51,
   "id": "ff816c36-45c7-4dae-8b62-71b01722a809",
   "metadata": {},
   "outputs": [
    {
     "name": "stdout",
     "output_type": "stream",
     "text": [
      "Average: 85.0, Grade: B\n"
     ]
    }
   ],
   "source": [
    "marks1 = 85\n",
    "marks2 = 92\n",
    "marks3 = 78\n",
    "average = (marks1 + marks2 + marks3) / 3\n",
    "if 90 <= average <= 100:\n",
    "    grade = \"A\"\n",
    "elif 80 <= average < 90:\n",
    "    grade = \"B\"\n",
    "elif 70 <= average < 80:\n",
    "    grade = \"C\"\n",
    "elif 60 <= average < 70:\n",
    "    grade = \"D\"\n",
    "else:\n",
    "    grade = \"F\"\n",
    "print(f\"Average: {average}, Grade: {grade}\")\n"
   ]
  },
  {
   "cell_type": "code",
   "execution_count": 52,
   "id": "37708991-a7c6-4c5d-9e69-06a5da88e22f",
   "metadata": {},
   "outputs": [
    {
     "name": "stdout",
     "output_type": "stream",
     "text": [
      "Real roots: 2.0 and 1.0\n"
     ]
    }
   ],
   "source": [
    "a = 1\n",
    "b = -3\n",
    "c = 2\n",
    "discriminant = b**2 - 4*a*c\n",
    "if discriminant > 0:\n",
    "    root1 = (-b + discriminant**0.5) / (2 * a)\n",
    "    root2 = (-b - discriminant**0.5) / (2 * a)\n",
    "    print(f\"Real roots: {root1} and {root2}\")\n",
    "elif discriminant == 0:\n",
    "    root = -b / (2 * a)\n",
    "    print(f\"Equal roots: {root}\")\n",
    "else:\n",
    "    real_part = -b / (2 * a)\n",
    "    imaginary_part = (abs(discriminant)**0.5) / (2 * a)\n",
    "    print(f\"Complex roots: {real_part} + {imaginary_part}i and {real_part} - {imaginary_part}i\")\n"
   ]
  },
  {
   "cell_type": "code",
   "execution_count": 53,
   "id": "f858df4c-7be7-4870-894e-f6541fbd6a96",
   "metadata": {},
   "outputs": [
    {
     "name": "stdout",
     "output_type": "stream",
     "text": [
      "Sorted numbers: [1, 23, 56]\n"
     ]
    }
   ],
   "source": [
    "numbers = [23, 1, 56]\n",
    "numbers.sort()\n",
    "print(\"Sorted numbers:\", numbers)\n"
   ]
  },
  {
   "cell_type": "code",
   "execution_count": 54,
   "id": "ce954c41-b41f-4080-bea5-2f4a6012ec92",
   "metadata": {},
   "outputs": [
    {
     "name": "stdout",
     "output_type": "stream",
     "text": [
      "The largest number is 45\n"
     ]
    }
   ],
   "source": [
    "num1 = 12\n",
    "num2 = 45\n",
    "num3 = 23\n",
    "largest = max(num1, num2, num3)\n",
    "print(f\"The largest number is {largest}\")\n"
   ]
  },
  {
   "cell_type": "code",
   "execution_count": 55,
   "id": "bb60502c-fb50-47ee-bad2-45b94eb56df8",
   "metadata": {},
   "outputs": [
    {
     "name": "stdout",
     "output_type": "stream",
     "text": [
      "Vowel\n"
     ]
    }
   ],
   "source": [
    "char = 'e'\n",
    "if char in 'aeiouAEIOU':\n",
    "    print(\"Vowel\")\n",
    "else:\n",
    "    print(\"Consonant\")\n"
   ]
  },
  {
   "cell_type": "code",
   "execution_count": 56,
   "id": "83698456-2ef6-4603-a894-27422bf96663",
   "metadata": {},
   "outputs": [
    {
     "name": "stdout",
     "output_type": "stream",
     "text": [
      "Leap Year\n"
     ]
    }
   ],
   "source": [
    "year = 2000\n",
    "if (year % 4 == 0 and year % 100 != 0) or (year % 400 == 0):\n",
    "    print(\"Leap Year\")\n",
    "else:\n",
    "    print(\"Not a Leap Year\")\n"
   ]
  },
  {
   "cell_type": "code",
   "execution_count": 57,
   "id": "03fd367a-2f08-4775-a765-64c5fd4e138f",
   "metadata": {},
   "outputs": [
    {
     "name": "stdout",
     "output_type": "stream",
     "text": [
      "Your bill is Rs. 230.0\n"
     ]
    }
   ],
   "source": [
    "calls = 150\n",
    "if calls <= 100:\n",
    "    bill = 200\n",
    "elif calls <= 150:\n",
    "    bill = 200 + (calls - 100) * 0.60\n",
    "elif calls <= 200:\n",
    "    bill = 200 + 50 * 0.60 + (calls - 150) * 0.50\n",
    "else:\n",
    "    bill = 200 + 50 * 0.60 + 50 * 0.50 + (calls - 200) * 0.40\n",
    "print(f\"Your bill is Rs. {bill}\")\n"
   ]
  },
  {
   "cell_type": "code",
   "execution_count": null,
   "id": "b0b36b49-51c2-4d3b-81de-b99a242c4189",
   "metadata": {},
   "outputs": [],
   "source": []
  }
 ],
 "metadata": {
  "kernelspec": {
   "display_name": "Python 3 (ipykernel)",
   "language": "python",
   "name": "python3"
  },
  "language_info": {
   "codemirror_mode": {
    "name": "ipython",
    "version": 3
   },
   "file_extension": ".py",
   "mimetype": "text/x-python",
   "name": "python",
   "nbconvert_exporter": "python",
   "pygments_lexer": "ipython3",
   "version": "3.12.7"
  }
 },
 "nbformat": 4,
 "nbformat_minor": 5
}
