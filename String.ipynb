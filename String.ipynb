
    "Strings Assignments\n",
    "\n",
    "1. Write a program that accepts a string from user. Your program should count and display number of\n",
    "vowels in that string.\n",
    "2. Write a program that reads a string from keyboard and display:\n",
    "* The number of uppercase letters in the string\n",
    "* The number of lowercase letters in the string\n",
    "* The number of digits in the string\n",
    "* The number of whitespace characters in the string\n",
    "3. Write a Python program that accepts a string from user. Your program should create and display a\n",
    "new string where the first and last characters have been exchanged.\n",
    "For example if the user enters the string 'HELLO' then new string would be 'OELLH'\n",
    "4. Write a Python program that accepts a string from user. Your program should create a new string in\n",
    "reverse of first string and display it.\n",
    "For example if the user enters the string 'EXAM' then new string would be 'MAXE'\n",
    "5. Write a Python program that accepts a string from user. Your program should create a new string by\n",
    "shifting one position to left.\n",
    "For example if the user enters the string 'examination 2021' then new string would be 'xamination\n",
    "2021e'\n",
    "6. Write a program that asks the user to input his name and print its initials. Assuming that the user\n",
    "always types first name, middle name and last name and does not include any unnecessary spaces.\n",
    "For example, if the user enters Ajay Kumar Garg the program should display A. K. G.\n",
    "Note:Don't use split() method\n",
    "7. A palindrome is a string that reads the same backward as forward. For example, the words dad,\n",
    "madam and radar are all palindromes. Write a programs that determines whether the string is a\n",
    "palindrome.\n",
    "Note: do not use reverse() method\n",
    "8. Write a program that display following output:\n",
    "SHIFT\n",
    "HIFTS\n",
    "IFTSH\n",
    "FTSHI\n",
    "TSHIF\n",
    "SHIFT\n",
    "9. Write a program in python that accepts a string to setup a passwords. Your entered password must\n",
    "meet the following requirements:\n",
    "\n",
    "The password must be at least eight characters long.\n",
    "It must contain at least one uppercase letter.\n",
    "It must contain at least one lowercase letter.\n",
    "It must contain at least one numeric digit.\n",
    "Your program should should perform this validation."
   ]
  },
  {
   "cell_type": "code",
   "execution_count": 16,
   "id": "6b3cf02e-52d7-4fb9-b8f5-87b03f502576",
   "metadata": {},
   "outputs": [
    {
     "name": "stdout",
     "output_type": "stream",
     "text": [
      "String: hello world\n",
      "Number of vowels: 3\n"
     ]
    }
   ],
   "source": [
    "import random\n",
    "\n",
    "# Random string generation\n",
    "input_string = \"hello world\"\n",
    "vowels = \"aeiou\"\n",
    "count = sum(1 for char in input_string if char in vowels)\n",
    "\n",
    "print(f\"String: {input_string}\")\n",
    "print(f\"Number of vowels: {count}\")\n"
   ]
  },
  {
   "cell_type": "code",
   "execution_count": 17,
   "id": "faefa596-4b32-481f-bc06-07b9c26de7ad",
   "metadata": {},
   "outputs": [
    {
     "name": "stdout",
     "output_type": "stream",
     "text": [
      "String: Hello World 1234\n",
      "Uppercase letters: 2\n",
      "Lowercase letters: 8\n",
      "Digits: 4\n",
      "Whitespaces: 2\n"
     ]
    }
   ],
   "source": [
    "input_string = \"Hello World 1234\"\n",
    "upper_count = sum(1 for char in input_string if char.isupper())\n",
    "lower_count = sum(1 for char in input_string if char.islower())\n",
    "digit_count = sum(1 for char in input_string if char.isdigit())\n",
    "space_count = sum(1 for char in input_string if char.isspace())\n",
    "\n",
    "print(f\"String: {input_string}\")\n",
    "print(f\"Uppercase letters: {upper_count}\")\n",
    "print(f\"Lowercase letters: {lower_count}\")\n",
    "print(f\"Digits: {digit_count}\")\n",
    "print(f\"Whitespaces: {space_count}\")\n"
   ]
  },
  {
   "cell_type": "code",
   "execution_count": 18,
   "id": "11e204ed-66cd-47a5-9499-cc3b0e2b968f",
   "metadata": {},
   "outputs": [
    {
     "name": "stdout",
     "output_type": "stream",
     "text": [
      "Original String: HELLO\n",
      "Modified String: OELLH\n"
     ]
    }
   ],
   "source": [
    "input_string = \"HELLO\"\n",
    "if len(input_string) > 1:\n",
    "    new_string = input_string[-1] + input_string[1:-1] + input_string[0]\n",
    "else:\n",
    "    new_string = input_string\n",
    "\n",
    "print(f\"Original String: {input_string}\")\n",
    "print(f\"Modified String: {new_string}\")\n"
   ]
  },
  {
   "cell_type": "code",
   "execution_count": 19,
   "id": "bc2c5411-7ed5-4c75-9272-604543d37b3d",
   "metadata": {},
   "outputs": [
    {
     "name": "stdout",
     "output_type": "stream",
     "text": [
      "Original String: EXAM\n",
      "Reversed String: MAXE\n"
     ]
    }
   ],
   "source": [
    "input_string = \"EXAM\"\n",
    "reversed_string = input_string[::-1]\n",
    "\n",
    "print(f\"Original String: {input_string}\")\n",
    "print(f\"Reversed String: {reversed_string}\")\n"
   ]
  },
  {
   "cell_type": "code",
   "execution_count": 20,
   "id": "b55b89fb-4466-4fdc-8c2d-67748b69aab8",
   "metadata": {},
   "outputs": [
    {
     "name": "stdout",
     "output_type": "stream",
     "text": [
      "Original String: examination 2021\n",
      "String after shifting left: xamination 2021e\n"
     ]
    }
   ],
   "source": [
    "input_string = \"examination 2021\"\n",
    "shifted_string = input_string[1:] + input_string[0]\n",
    "\n",
    "print(f\"Original String: {input_string}\")\n",
    "print(f\"String after shifting left: {shifted_string}\")\n"
   ]
  },
  {
   "cell_type": "code",
   "execution_count": 21,
   "id": "b4bf784c-d127-44d5-a66a-51d8050b9759",
   "metadata": {},
   "outputs": [
    {
     "name": "stdout",
     "output_type": "stream",
     "text": [
      "Initials: A.K.G.\n"
     ]
    }
   ],
   "source": [
    "input_name = \"Ajay Kumar Garg\"\n",
    "initials = \"\".join([word[0] + \".\" for word in input_name.split()])\n",
    "print(f\"Initials: {initials}\")\n"
   ]
  },
  {
   "cell_type": "code",
   "execution_count": 22,
   "id": "77f344ee-d9e1-46e8-b474-ca3f143b160e",
   "metadata": {},
   "outputs": [
    {
     "name": "stdout",
     "output_type": "stream",
     "text": [
      "String: madam\n",
      "Is palindrome: True\n"
     ]
    }
   ],
   "source": [
    "input_string = \"madam\"\n",
    "is_palindrome = input_string == input_string[::-1]\n",
    "\n",
    "print(f\"String: {input_string}\")\n",
    "print(f\"Is palindrome: {is_palindrome}\")\n"
   ]
  },
  {
   "cell_type": "code",
   "execution_count": 23,
   "id": "0eba37a7-eac5-4d0d-9af2-5c4b8d4d7c7d",
   "metadata": {},
   "outputs": [
    {
     "name": "stdout",
     "output_type": "stream",
     "text": [
      "SHIFT\n",
      "HIFTS\n",
      "IFTSH\n",
      "FTSHI\n",
      "TSHIF\n"
     ]
    }
   ],
   "source": [
    "input_string = \"SHIFT\"\n",
    "for i in range(len(input_string)):\n",
    "    print(input_string[i:] + input_string[:i])\n"
   ]
  },
  {
   "cell_type": "code",
   "execution_count": 24,
   "id": "3b333e72-749a-4d9a-8f18-562532ee2862",
   "metadata": {},
   "outputs": [
    {
     "name": "stdout",
     "output_type": "stream",
     "text": [
      "Password 'Password123' is valid.\n"
     ]
    }
   ],
   "source": [
    "import re\n",
    "\n",
    "password = \"Password123\"\n",
    "# Password criteria\n",
    "is_valid = (\n",
    "    len(password) >= 8 and\n",
    "    any(char.isupper() for char in password) and\n",
    "    any(char.islower() for char in password) and\n",
    "    any(char.isdigit() for char in password)\n",
    ")\n",
    "\n",
    "if is_valid:\n",
    "    print(f\"Password '{password}' is valid.\")\n",
    "else:\n",
    "    print(f\"Password '{password}' is invalid.\")\n"
   ]
  },
  {
   "cell_type": "markdown",
   "id": "b0c686aa-fbc9-46f9-a20e-f58ff1a3ee7f",
   "metadata": {},
   "source": [
