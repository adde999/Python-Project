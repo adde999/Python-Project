
    "Strings Assignments\n",
    "\n",
    "1. Write a program that accepts a string from user. Your program should count and display number of\n",
    "vowels in that string.\n",
    "2. Write a program that reads a string from keyboard and display:\n",
    "* The number of uppercase letters in the string\n",
    "* The number of lowercase letters in the string\n",
    "* The number of digits in the string\n",
    "* The number of whitespace characters in the string\n",
    "3. Write a Python program that accepts a string from user. Your program should create and display a\n",
    "new string where the first and last characters have been exchanged.\n",
    "For example if the user enters the string 'HELLO' then new string would be 'OELLH'\n",
    "4. Write a Python program that accepts a string from user. Your program should create a new string in\n",
    "reverse of first string and display it.\n",
    "For example if the user enters the string 'EXAM' then new string would be 'MAXE'\n",
    "5. Write a Python program that accepts a string from user. Your program should create a new string by\n",
    "shifting one position to left.\n",
    "For example if the user enters the string 'examination 2021' then new string would be 'xamination\n",
    "2021e'\n",
    "6. Write a program that asks the user to input his name and print its initials. Assuming that the user\n",
    "always types first name, middle name and last name and does not include any unnecessary spaces.\n",
    "For example, if the user enters Ajay Kumar Garg the program should display A. K. G.\n",
    "Note:Don't use split() method\n",
    "7. A palindrome is a string that reads the same backward as forward. For example, the words dad,\n",
    "madam and radar are all palindromes. Write a programs that determines whether the string is a\n",
    "palindrome.\n",
    "Note: do not use reverse() method\n",
    "8. Write a program that display following output:\n",
    "SHIFT\n",
    "HIFTS\n",
    "IFTSH\n",
    "FTSHI\n",
    "TSHIF\n",
    "SHIFT\n",
    "9. Write a program in python that accepts a string to setup a passwords. Your entered password must\n",
    "meet the following requirements:\n",
    "\n",
    "The password must be at least eight characters long.\n",
    "It must contain at least one uppercase letter.\n",
    "It must contain at least one lowercase letter.\n",
    "It must contain at least one numeric digit.\n",
    "Your program should should perform this validation."
   ]
  },
  {
   "cell_type": "code",
   "execution_count": 16,
   "id": "6b3cf02e-52d7-4fb9-b8f5-87b03f502576",
   "metadata": {},
   "outputs": [
    {
     "name": "stdout",
     "output_type": "stream",
     "text": [
      "String: hello world\n",
      "Number of vowels: 3\n"
     ]
    }
   ],
   "source": [
   import re

# Question 1: Count vowels in a string (case insensitive)
def count_vowels():
    input_string = input("Enter a string: ")
    vowels = "aeiouAEIOU"
    count = sum(1 for char in input_string if char in vowels)
    print(f"Number of vowels: {count}")

# Question 2: Count uppercase, lowercase, digits, and spaces
def analyze_string():
    input_string = input("Enter a string: ")
    upper_count = sum(1 for char in input_string if char.isupper())
    lower_count = sum(1 for char in input_string if char.islower())
    digit_count = sum(1 for char in input_string if char.isdigit())
    space_count = sum(1 for char in input_string if char.isspace())

    print(f"Uppercase letters: {upper_count}")
    print(f"Lowercase letters: {lower_count}")
    print(f"Digits: {digit_count}")
    print(f"Whitespaces: {space_count}")

# Question 3: Swap first and last character of a string
def swap_first_last():
    input_string = input("Enter a string: ")
    if len(input_string) > 1:
        new_string = input_string[-1] + input_string[1:-1] + input_string[0]
    else:
        new_string = input_string
    print(f"Modified String: {new_string}")

# Question 4: Reverse a string
def reverse_string():
    input_string = input("Enter a string: ")
    reversed_string = input_string[::-1]
    print(f"Reversed String: {reversed_string}")

# Question 5: Shift string one position left
def shift_left():
    input_string = input("Enter a string: ")
    if len(input_string) > 1:
        shifted_string = input_string[1:] + input_string[0]
    else:
        shifted_string = input_string
    print(f"String after shifting left: {shifted_string}")

# Question 6: Extract initials without using split()
def extract_initials():
    input_name = input("Enter full name: ")
    initials = ""
    add_initial = True  # Track when to add an initial
    for char in input_name:
        if add_initial and char.isalpha():
            initials += char.upper() + "."
            add_initial = False
        elif char == " ":
            add_initial = True
    print(f"Initials: {initials}")

# Question 7: Check if a string is a palindrome
def is_palindrome():
    input_string = input("Enter a string: ")
    if input_string == input_string[::-1]:
        print("The string is a palindrome.")
    else:
        print("The string is NOT a palindrome.")

# Question 8: Display cyclic shifts of "SHIFT"
def cyclic_shift():
    input_string = "SHIFT"
    for i in range(len(input_string)):
        print(input_string[i:] + input_string[:i])

# Question 9: Validate password with given conditions
def validate_password():
    password = input("Enter a password: ")
    is_valid = (
        len(password) >= 8 and
        any(char.isupper() for char in password) and
        any(char.islower() for char in password) and
        any(char.isdigit() for char in password) and
        bool(re.search(r"[!@#$%^&*(),.?\":{}|<>]", password))  # At least one special character
    )

    if is_valid:
        print("Password is valid.")
    else:
        print("Password is invalid. It must have:\n"
              "- At least 8 characters\n"
              "- At least one uppercase letter\n"
              "- At least one lowercase letter\n"
              "- At least one digit\n"
              "- At least one special character")

# Menu to choose functions
def main():
    while True:
        print("\nSTRING ASSIGNMENTS")
        print("1. Count vowels")
        print("2. Analyze string (uppercase, lowercase, digits, spaces)")
        print("3. Swap first and last character")
        print("4. Reverse string")
        print("5. Shift string left")
        print("6. Extract initials")
        print("7. Check palindrome")
        print("8. Cyclic shift of 'SHIFT'")
        print("9. Validate password")
        print("0. Exit")
        
        choice = input("Enter your choice (0-9): ")
        
        if choice == "1":
            count_vowels()
        elif choice == "2":
            analyze_string()
        elif choice == "3":
            swap_first_last()
        elif choice == "4":
            reverse_string()
        elif choice == "5":
            shift_left()
        elif choice == "6":
            extract_initials()
        elif choice == "7":
            is_palindrome()
        elif choice == "8":
            cyclic_shift()
        elif choice == "9":
            validate_password()
        elif choice == "0":
            print("Exiting program.")
            break
        else:
            print("Invalid choice. Please try again.")

# Run the main menu
if __name__ == "__main__":
    main()
