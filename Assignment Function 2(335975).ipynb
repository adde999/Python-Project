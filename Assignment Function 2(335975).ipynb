{
 "cells": [
  {
   "cell_type": "markdown",
   "id": "37f29bef-061e-4bb6-8958-06e618d35bac",
   "metadata": {},
   "source": [
    "Task1:\n",
    "You need to write a function in python that return all such numbers which are\n",
    "divisible by 7 but are not a multiple of 5, between 2000 and 3200 (both included).\n",
    "Return the obtained numbers in a comma-separated sequence on a single line."
   ]
  },
  {
   "cell_type": "code",
   "execution_count": 1,
   "id": "8157d16e-d0de-4beb-8004-f05b46ecde60",
   "metadata": {},
   "outputs": [
    {
     "name": "stdout",
     "output_type": "stream",
     "text": [
      "2002,2009,2016,2023,2037,2044,2051,2058,2072,2079,2086,2093,2107,2114,2121,2128,2142,2149,2156,2163,2177,2184,2191,2198,2212,2219,2226,2233,2247,2254,2261,2268,2282,2289,2296,2303,2317,2324,2331,2338,2352,2359,2366,2373,2387,2394,2401,2408,2422,2429,2436,2443,2457,2464,2471,2478,2492,2499,2506,2513,2527,2534,2541,2548,2562,2569,2576,2583,2597,2604,2611,2618,2632,2639,2646,2653,2667,2674,2681,2688,2702,2709,2716,2723,2737,2744,2751,2758,2772,2779,2786,2793,2807,2814,2821,2828,2842,2849,2856,2863,2877,2884,2891,2898,2912,2919,2926,2933,2947,2954,2961,2968,2982,2989,2996,3003,3017,3024,3031,3038,3052,3059,3066,3073,3087,3094,3101,3108,3122,3129,3136,3143,3157,3164,3171,3178,3192,3199\n"
     ]
    }
   ],
   "source": [
    "def find_numbers():\n",
    "    result = []\n",
    "    for number in range(2000, 3201):\n",
    "        if number % 7 == 0 and number % 5 != 0:\n",
    "            result.append(str(number))\n",
    "    return \",\".join(result)\n",
    "\n",
    "# Example usage:\n",
    "print(find_numbers())\n"
   ]
  },
  {
   "cell_type": "markdown",
   "id": "35c789ed-cb02-45fc-9529-8a871b33c0fb",
   "metadata": {},
   "source": [
    "Task2:\n",
    "You need code a function that calculates and returns the value according to the\n",
    "given formula:\n",
    "P = Square root of [(2 * A * B)/C]\n",
    "Following are the fixed values of A and B:\n",
    "A is 50. B is 30.\n",
    "The values of the literal C should be taken as console input to your program in a\n",
    "comma-separated sequence.\n",
    "Example\n",
    "Let us assume the following comma separated input sequence is given to the\n",
    "program:\n",
    "100,150,180\n",
    "The output of the program should be:\n",
    "18,22,24"
   ]
  },
  {
   "cell_type": "code",
   "execution_count": 8,
   "id": "6fd16209-2149-464c-ba74-b329df98681e",
   "metadata": {},
   "outputs": [
    {
     "name": "stdin",
     "output_type": "stream",
     "text": [
      "Enter comma-separated values for C:  100,150,180\n"
     ]
    },
    {
     "name": "stdout",
     "output_type": "stream",
     "text": [
      "5,4,4\n"
     ]
    }
   ],
   "source": [
    "import math\n",
    "\n",
    "def calculate_values(c_values):\n",
    "    A = 50\n",
    "    B = 30\n",
    "    result = []\n",
    "    \n",
    "    for C in c_values:\n",
    "        P = math.sqrt((2 * A * B) / C)\n",
    "        result.append(str(int(P)))  # Convert the result to an integer and then to a string\n",
    "    \n",
    "    return \",\".join(result)\n",
    "\n",
    "# Example usage:\n",
    "input_values = input(\"Enter comma-separated values for C: \").split(',')\n",
    "c_values = [int(c) for c in input_values]  # Convert input values to integers\n",
    "print(calculate_values(c_values))\n"
   ]
  },
  {
   "cell_type": "markdown",
   "id": "16d0f11e-6437-499f-b6c6-5e3b6b3164ee",
   "metadata": {},
   "source": [
    "Task3:\n",
    "You need to write a function that takes a comma separated sequence of words as\n",
    "input and prints the words in a comma-separated sequence after sorting them\n",
    "alphabetically.\n",
    "Suppose the following input is supplied to the program:\n",
    "without,hello,bag,world\n",
    "Then, the output should be:\n",
    "bag,hello,without,world"
   ]
  },
  {
   "cell_type": "code",
   "execution_count": 9,
   "id": "1711a228-91ab-4ab1-81d9-22c22010b950",
   "metadata": {},
   "outputs": [
    {
     "name": "stdin",
     "output_type": "stream",
     "text": [
      "Enter comma-separated words:  without,hello,bag,world\n"
     ]
    },
    {
     "name": "stdout",
     "output_type": "stream",
     "text": [
      "bag,hello,without,world\n"
     ]
    }
   ],
   "source": [
    "def sort_words():\n",
    "    # Take input from the user\n",
    "    input_words = input(\"Enter comma-separated words: \").split(',')\n",
    "    \n",
    "    # Sort the list of words alphabetically\n",
    "    input_words.sort()\n",
    "    \n",
    "    # Print the sorted words in a comma-separated sequence\n",
    "    print(\",\".join(input_words))\n",
    "\n",
    "# Example usage:\n",
    "sort_words()"
   ]
  },
  {
   "cell_type": "markdown",
   "id": "eb64f1af-d4df-496a-a585-a6453d9977d7",
   "metadata": {},
   "source": [
    "Task4:\n",
    "You need to write a program that takes sequence of lines as input and prints the\n",
    "lines after making all characters in the sentence capitalized.\n",
    "Suppose the following input is supplied to the program:\n",
    "Hello world\n",
    "Practice makes perfect\n",
    "Then, the output should be:\n",
    "\n",
    "HELLO WORLD\n",
    "PRACTICE MAKES PERFECT"
   ]
  },
  {
   "cell_type": "code",
   "execution_count": 12,
   "id": "a86646e8-f79c-4308-9585-d58a35691d5d",
   "metadata": {},
   "outputs": [
    {
     "name": "stdout",
     "output_type": "stream",
     "text": [
      "Enter the lines of text (type 'DONE' to stop):\n"
     ]
    },
    {
     "name": "stdin",
     "output_type": "stream",
     "text": [
      " Hello world Practice makes perfect \n"
     ]
    },
    {
     "name": "stdout",
     "output_type": "stream",
     "text": [
      "HELLO WORLD PRACTICE MAKES PERFECT \n"
     ]
    },
    {
     "name": "stdin",
     "output_type": "stream",
     "text": [
      " done\n"
     ]
    },
    {
     "name": "stdout",
     "output_type": "stream",
     "text": [
      "DONE\n"
     ]
    },
    {
     "name": "stdin",
     "output_type": "stream",
     "text": [
      " Hello world Practice makes perfect DONE+\n"
     ]
    },
    {
     "name": "stdout",
     "output_type": "stream",
     "text": [
      "HELLO WORLD PRACTICE MAKES PERFECT DONE+\n"
     ]
    },
    {
     "name": "stdin",
     "output_type": "stream",
     "text": [
      " Hello world Practice makes perfect DONE\n"
     ]
    },
    {
     "name": "stdout",
     "output_type": "stream",
     "text": [
      "HELLO WORLD PRACTICE MAKES PERFECT DONE\n"
     ]
    },
    {
     "name": "stdin",
     "output_type": "stream",
     "text": [
      " done\n"
     ]
    },
    {
     "name": "stdout",
     "output_type": "stream",
     "text": [
      "DONE\n"
     ]
    },
    {
     "name": "stdin",
     "output_type": "stream",
     "text": [
      " 'Done'\n"
     ]
    },
    {
     "name": "stdout",
     "output_type": "stream",
     "text": [
      "'DONE'\n"
     ]
    },
    {
     "name": "stdin",
     "output_type": "stream",
     "text": [
      " DONE\n"
     ]
    }
   ],
   "source": [
    "def capitalize_lines():\n",
    "    # Take input from the user\n",
    "    print(\"Enter the lines of text (type 'DONE' to stop):\")\n",
    "    \n",
    "    while True:\n",
    "        line = input()\n",
    "        if line == \"DONE\":\n",
    "            break\n",
    "        print(line.upper())\n",
    "\n",
    "# Example usage:\n",
    "capitalize_lines()"
   ]
  },
  {
   "cell_type": "markdown",
   "id": "8087b933-4f3e-4740-9f93-62aef6bb873d",
   "metadata": {},
   "source": [
    "Task5:\n",
    "You need to write a function that counts the number of vowels in a given\n",
    "sentence as input from console.\n",
    "Suppose the following input is supplied to the program:\n",
    "Hello world\n",
    "Practice makes perfect\n",
    "Then, the output should be:\n",
    "a appeared 2 times\n",
    "e appeared 5 times\n",
    "i appeared 1 time\n",
    "o appeared 2 times\n",
    "u appeared 0 time\n",
    "PRACTICE MAKES PERFECT"
   ]
  },
  {
   "cell_type": "code",
   "execution_count": 13,
   "id": "d93ed0fd-7321-476f-8103-f9f1b26a9d4a",
   "metadata": {},
   "outputs": [
    {
     "name": "stdin",
     "output_type": "stream",
     "text": [
      "Enter a sentence:  Hello world\n"
     ]
    },
    {
     "name": "stdout",
     "output_type": "stream",
     "text": [
      "a appeared 0 times\n",
      "e appeared 1 time\n",
      "i appeared 0 times\n",
      "o appeared 2 times\n",
      "u appeared 0 times\n"
     ]
    }
   ],
   "source": [
    "def count_vowels():\n",
    "    # Take input from the user\n",
    "    sentence = input(\"Enter a sentence: \")\n",
    "    \n",
    "    # Convert the sentence to lowercase to handle case-insensitivity\n",
    "    sentence_lower = sentence.lower()\n",
    "    \n",
    "    # Vowels to count\n",
    "    vowels = 'aeiou'\n",
    "    \n",
    "    # Dictionary to hold the counts for each vowel\n",
    "    vowel_counts = {v: sentence_lower.count(v) for v in vowels}\n",
    "    \n",
    "    # Print the count of each vowel\n",
    "    for vowel, count in vowel_counts.items():\n",
    "        print(f\"{vowel} appeared {count} time{'s' if count != 1 else ''}\")\n",
    "    \n",
    "# Example usage:\n",
    "count_vowels()"
   ]
  },
  {
   "cell_type": "markdown",
   "id": "550bdb63-f087-427e-89c6-26bc7801beeb",
   "metadata": {},
   "source": [
    "Task6:\n",
    "You need write a function that traces and makes a list of all such numbers\n",
    "from1000 to 3000 in which all the digits are even numbers."
   ]
  },
  {
   "cell_type": "code",
   "execution_count": 14,
   "id": "8eea11af-3c66-4dc6-ab7a-a3c9d7829270",
   "metadata": {},
   "outputs": [
    {
     "name": "stdout",
     "output_type": "stream",
     "text": [
      "2000,2002,2004,2006,2008,2020,2022,2024,2026,2028,2040,2042,2044,2046,2048,2060,2062,2064,2066,2068,2080,2082,2084,2086,2088,2200,2202,2204,2206,2208,2220,2222,2224,2226,2228,2240,2242,2244,2246,2248,2260,2262,2264,2266,2268,2280,2282,2284,2286,2288,2400,2402,2404,2406,2408,2420,2422,2424,2426,2428,2440,2442,2444,2446,2448,2460,2462,2464,2466,2468,2480,2482,2484,2486,2488,2600,2602,2604,2606,2608,2620,2622,2624,2626,2628,2640,2642,2644,2646,2648,2660,2662,2664,2666,2668,2680,2682,2684,2686,2688,2800,2802,2804,2806,2808,2820,2822,2824,2826,2828,2840,2842,2844,2846,2848,2860,2862,2864,2866,2868,2880,2882,2884,2886,2888\n"
     ]
    }
   ],
   "source": [
    "def find_even_digit_numbers():\n",
    "    result = []\n",
    "    \n",
    "    for number in range(1000, 3001):\n",
    "        # Convert the number to a string and check if all digits are even\n",
    "        if all(int(digit) % 2 == 0 for digit in str(number)):\n",
    "            result.append(str(number))\n",
    "    \n",
    "    return result\n",
    "\n",
    "# Example usage:\n",
    "even_digit_numbers = find_even_digit_numbers()\n",
    "print(\",\".join(even_digit_numbers))\n"
   ]
  },
  {
   "cell_type": "markdown",
   "id": "7bbbc6c3-cfe5-49fe-80c6-c3bfa38198f6",
   "metadata": {},
   "source": [
    "Task7:\n",
    "You need to write a code which accepts a sequence of comma separated 4 digit\n",
    "binary numbers as its input and then check whether they are divisible by 5 or not.\n",
    "The numbers that are divisible by 5 are to be printed in a comma separated\n",
    "sequence.\n",
    "Example:\n",
    "0100,0011,1010,1001\n",
    "Then the output should be:\n",
    "1010\n",
    "Reference: https://www.datacamp.com/.../python-data-type-conversion"
   ]
  },
  {
   "cell_type": "code",
   "execution_count": 15,
   "id": "df699811-182c-4e1f-a852-6e88163c78cc",
   "metadata": {},
   "outputs": [
    {
     "name": "stdin",
     "output_type": "stream",
     "text": [
      "Enter comma-separated 4-digit binary numbers:  0100\n"
     ]
    },
    {
     "name": "stdout",
     "output_type": "stream",
     "text": [
      "\n"
     ]
    }
   ],
   "source": [
    "def check_divisible_by_five():\n",
    "    # Take input from the user\n",
    "    binary_numbers = input(\"Enter comma-separated 4-digit binary numbers: \").split(',')\n",
    "    \n",
    "    divisible_by_five = []\n",
    "    \n",
    "    for binary in binary_numbers:\n",
    "        # Convert the binary string to an integer\n",
    "        decimal_number = int(binary, 2)\n",
    "        \n",
    "        # Check if the decimal number is divisible by 5\n",
    "        if decimal_number % 5 == 0:\n",
    "            divisible_by_five.append(binary)\n",
    "    \n",
    "    # Print the numbers divisible by 5 as a comma-separated sequence\n",
    "    print(\",\".join(divisible_by_five))\n",
    "\n",
    "# Example usage:\n",
    "check_divisible_by_five()"
   ]
  },
  {
   "cell_type": "markdown",
   "id": "fe5630ac-86e7-4d08-9bf9-889cc1e42697",
   "metadata": {},
   "source": [
    "Task8:\n",
    "Write a program that accepts a sentence and calculate the number of letters and\n",
    "digits.\n",
    "Suppose the following input is supplied to the program:\n",
    "hello world! 123\n",
    "Then, the output should be:\n",
    "LETTERS 10\n",
    "DIGITS 3"
   ]
  },
  {
   "cell_type": "code",
   "execution_count": 17,
   "id": "465fe7c6-005d-4135-986f-7f762a4b5226",
   "metadata": {},
   "outputs": [
    {
     "name": "stdin",
     "output_type": "stream",
     "text": [
      "Enter a sentence:  hello world! 123\n"
     ]
    },
    {
     "name": "stdout",
     "output_type": "stream",
     "text": [
      "LETTERS 10\n",
      "DIGITS 3\n"
     ]
    }
   ],
   "source": [
    "def count_letters_and_digits():\n",
    "    # Take input from the user\n",
    "    sentence = input(\"Enter a sentence: \")\n",
    "    \n",
    "    letters = 0\n",
    "    digits = 0\n",
    "    \n",
    "    # Iterate through each character in the sentence\n",
    "    for char in sentence:\n",
    "        if char.isalpha():  # Check if the character is a letter\n",
    "            letters += 1\n",
    "        elif char.isdigit():  # Check if the character is a digit\n",
    "            digits += 1\n",
    "    \n",
    "    # Print the count of letters and digits\n",
    "    print(f\"LETTERS {letters}\")\n",
    "    print(f\"DIGITS {digits}\")\n",
    "\n",
    "# Example usage:\n",
    "count_letters_and_digits()\n"
   ]
  },
  {
   "cell_type": "code",
   "execution_count": null,
   "id": "e43708f0-72d7-46c0-b354-e58c22098378",
   "metadata": {},
   "outputs": [],
   "source": []
  }
 ],
 "metadata": {
  "kernelspec": {
   "display_name": "Python 3 (ipykernel)",
   "language": "python",
   "name": "python3"
  },
  "language_info": {
   "codemirror_mode": {
    "name": "ipython",
    "version": 3
   },
   "file_extension": ".py",
   "mimetype": "text/x-python",
   "name": "python",
   "nbconvert_exporter": "python",
   "pygments_lexer": "ipython3",
   "version": "3.12.7"
  }
 },
 "nbformat": 4,
 "nbformat_minor": 5
}
